{
 "cells": [
  {
   "cell_type": "markdown",
   "id": "f7d16012",
   "metadata": {},
   "source": [
    "## 딕셔너리"
   ]
  },
  {
   "cell_type": "code",
   "execution_count": null,
   "id": "3fa2dc79",
   "metadata": {},
   "outputs": [],
   "source": [
    "dic1 = {\"name\" : \"SW\", \"age\" : 26, \"phone\" : \"010-1234-5678\"}\n",
    "dic1"
   ]
  },
  {
   "cell_type": "code",
   "execution_count": null,
   "id": "e1562aaf",
   "metadata": {},
   "outputs": [],
   "source": [
    "type(dic1)"
   ]
  },
  {
   "cell_type": "code",
   "execution_count": null,
   "id": "74762cc8",
   "metadata": {},
   "outputs": [],
   "source": [
    "dic1['birth'] = '02/08'"
   ]
  },
  {
   "cell_type": "code",
   "execution_count": null,
   "id": "1e06b422",
   "metadata": {},
   "outputs": [],
   "source": [
    "dic1"
   ]
  },
  {
   "cell_type": "code",
   "execution_count": 1,
   "id": "6c39a2cb",
   "metadata": {},
   "outputs": [
    {
     "data": {
      "text/plain": [
       "{'노래제목': '참고사항'}"
      ]
     },
     "execution_count": 1,
     "metadata": {},
     "output_type": "execute_result"
    }
   ],
   "source": [
    "dic_test = {'노래제목' : '참고사항'}\n",
    "dic_test"
   ]
  },
  {
   "cell_type": "code",
   "execution_count": 7,
   "id": "6d8b1b3d",
   "metadata": {},
   "outputs": [
    {
     "data": {
      "text/plain": [
       "{'노래제목': '참고사항', '날짜': '2022.06.23', '가수': '이무진'}"
      ]
     },
     "execution_count": 7,
     "metadata": {},
     "output_type": "execute_result"
    }
   ],
   "source": [
    "dic_test['가수'] = '이무진'\n",
    "dic_test['날짜'] = '2022.06.23'\n",
    "dic_test"
   ]
  },
  {
   "cell_type": "code",
   "execution_count": 8,
   "id": "c98f81ce",
   "metadata": {},
   "outputs": [
    {
     "data": {
      "text/plain": [
       "'2022.06.23'"
      ]
     },
     "execution_count": 8,
     "metadata": {},
     "output_type": "execute_result"
    }
   ],
   "source": [
    "dic_test['날짜']\n"
   ]
  },
  {
   "cell_type": "code",
   "execution_count": 6,
   "id": "8a27848e",
   "metadata": {},
   "outputs": [
    {
     "ename": "KeyError",
     "evalue": "'이무진'",
     "output_type": "error",
     "traceback": [
      "\u001b[1;31m---------------------------------------------------------------------------\u001b[0m",
      "\u001b[1;31mKeyError\u001b[0m                                  Traceback (most recent call last)",
      "Input \u001b[1;32mIn [6]\u001b[0m, in \u001b[0;36m<cell line: 1>\u001b[1;34m()\u001b[0m\n\u001b[1;32m----> 1\u001b[0m \u001b[38;5;28;01mdel\u001b[39;00m dic_test[\u001b[38;5;124m'\u001b[39m\u001b[38;5;124m이무진\u001b[39m\u001b[38;5;124m'\u001b[39m]\n\u001b[0;32m      2\u001b[0m dic_test\n",
      "\u001b[1;31mKeyError\u001b[0m: '이무진'"
     ]
    }
   ],
   "source": [
    "del dic_test['이무진']\n",
    "dic_test"
   ]
  },
  {
   "cell_type": "code",
   "execution_count": null,
   "id": "cb95c883",
   "metadata": {},
   "outputs": [],
   "source": []
  }
 ],
 "metadata": {
  "kernelspec": {
   "display_name": "Python 3 (ipykernel)",
   "language": "python",
   "name": "python3"
  },
  "language_info": {
   "codemirror_mode": {
    "name": "ipython",
    "version": 3
   },
   "file_extension": ".py",
   "mimetype": "text/x-python",
   "name": "python",
   "nbconvert_exporter": "python",
   "pygments_lexer": "ipython3",
   "version": "3.9.12"
  }
 },
 "nbformat": 4,
 "nbformat_minor": 5
}
