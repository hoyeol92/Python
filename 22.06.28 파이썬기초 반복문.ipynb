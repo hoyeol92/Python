{
 "cells": [
  {
   "cell_type": "code",
   "execution_count": null,
   "id": "a81cb256",
   "metadata": {},
   "outputs": [],
   "source": [
    "number = 1\n",
    "\n",
    "while number <= 3:\n",
    "    print(number)\n",
    "    number += 1"
   ]
  },
  {
   "cell_type": "code",
   "execution_count": null,
   "id": "df1ace43",
   "metadata": {},
   "outputs": [],
   "source": [
    "num = 1\n",
    "\n",
    "while num <= 10:\n",
    "    print(\"파이썬 최고!!\")\n",
    "    num += 1\n",
    "    "
   ]
  },
  {
   "cell_type": "code",
   "execution_count": null,
   "id": "308643f3",
   "metadata": {},
   "outputs": [],
   "source": [
    "while True:\n",
    "    print(\"무한루프!!\")\n",
    "    break"
   ]
  },
  {
   "cell_type": "code",
   "execution_count": null,
   "id": "706af039",
   "metadata": {},
   "outputs": [],
   "source": [
    "number = 1\n",
    "while True:\n",
    "    print(number)\n",
    "    number += 1\n",
    "    if number > 3: # 처음실행하면 넘버(2)가 3보다 작은데 크다고 하니 거짓, 브레이크 하지 않고 위로 돌아감 \n",
    "        break"
   ]
  },
  {
   "cell_type": "code",
   "execution_count": null,
   "id": "1cf9f439",
   "metadata": {},
   "outputs": [],
   "source": [
    "num = 1\n",
    "while num <= 10:\n",
    "    print(f\"{num}번째 반복중..\")\n",
    "    if num >= 4:\n",
    "        print(\"여기서 부터는 num이 증가하지 않습니당 ㅠㅠ\")\n",
    "        break # 밑 코드는 실행하지 않고 반복문 첫번째로 돌아가게 한다.\n",
    "    num += 1    \n",
    "\n"
   ]
  },
  {
   "cell_type": "code",
   "execution_count": null,
   "id": "c146686f",
   "metadata": {},
   "outputs": [],
   "source": []
  },
  {
   "cell_type": "code",
   "execution_count": null,
   "id": "997981f1",
   "metadata": {},
   "outputs": [],
   "source": [
    "\n",
    "while True:\n",
    "    name = input(\"이름 입력 >> \")\n",
    "    if name == \"최성우\":\n",
    "        print(f\"{name} 멋지다!\")\n",
    "        break  # 순서가 중요!!\n",
    "    \n",
    "    print(f\"{name} 최고!\") # 브레이크 안에 들어가게 되면 프린트문이 두개 동시 출력된다.포함범위도 중요!\n",
    "    "
   ]
  },
  {
   "cell_type": "code",
   "execution_count": null,
   "id": "c1a1ffea",
   "metadata": {},
   "outputs": [],
   "source": [
    "while True: # 이름이 들어갔을 때 조건이 맞으면 종료되면 되기 때문에 따로 조건을 넣을 필요없다.\n",
    "    name = input(\"이름 입력 >> \")\n",
    "    if name == \"최성우\":\n",
    "        print(f\"{name} 멋지다!\")"
   ]
  },
  {
   "cell_type": "code",
   "execution_count": null,
   "id": "b9d0ac88",
   "metadata": {},
   "outputs": [],
   "source": []
  },
  {
   "cell_type": "code",
   "execution_count": null,
   "id": "bdded243",
   "metadata": {},
   "outputs": [],
   "source": [
    "while True :\n",
    "    num1 = int(input(\"첫 번째 정수 입력 >> \"))\n",
    "    num2 = int(input(\"두 번째 정수 입력 >> \"))\n",
    "    \n",
    "    if num1 == 0 and num2 == 0:\n",
    "        print(\"프로그램이 종료되었습니다.\")  \n",
    "        break\n",
    "    print(f\"두 정수의 합 : {num1 + num2}\") # 애도 반복문 안에 있기 때문에 위에 브레이크 작동하면 실행않고 종료된다.  "
   ]
  },
  {
   "cell_type": "code",
   "execution_count": null,
   "id": "4ef58a48",
   "metadata": {},
   "outputs": [],
   "source": []
  },
  {
   "cell_type": "code",
   "execution_count": null,
   "id": "49e092b2",
   "metadata": {
    "scrolled": true
   },
   "outputs": [],
   "source": [
    "cur_weight = int(input(\"현재 몸무게 : \"))\n",
    "goal_weight = int(input(\"목표 몸무게 : \"))\n",
    "num = 1\n",
    "\n",
    "while cur_weight >= goal_weight: # 현재가 목표보다 클 경우 반복(감량을 반복) 실행\n",
    "    week_weight = int(input(f\"{num}주차 감량 몸무게 : \"))\n",
    "    num += 1\n",
    "    cur_weight -= week_weight\n",
    "print(f\"{cur_weight}kg 달성하셨습니다! \") "
   ]
  },
  {
   "cell_type": "markdown",
   "id": "8a476284",
   "metadata": {},
   "source": [
    "## 반복되야하는 조건은?\n",
    "현재몸무게와 목표몸무게는 반복필요없음\n",
    "(현재 몸무게 - 1주차 감량몸무게) 가 목표몸무게 이하일 경우 종료\n",
    "\n",
    "각 주차별 몸무게를 입력해서 (현재 몸무게 - 1주차 감량몸무게)가 목표 이하가 되도록 식을 세운다.\n",
    "\n",
    "반복은 주차별 몸무게 입력 - 현재몸무게에서 빼기 - 누적되서 다음 주차 몸무게 입력 - "
   ]
  },
  {
   "cell_type": "code",
   "execution_count": null,
   "id": "fd049b77",
   "metadata": {},
   "outputs": [],
   "source": [
    "import random\n",
    "random.randint(1, 50)"
   ]
  },
  {
   "cell_type": "code",
   "execution_count": null,
   "id": "070e981a",
   "metadata": {},
   "outputs": [],
   "source": [
    "num = random.randint(1, 50)\n",
    "\n",
    "while True:\n",
    "    a = int(input(\"숫자를 입력하세요 >> \"))\n",
    "    if num != a\n",
    "        if num < a:\n",
    "            print(f\"{a}보다 작은 수 입니다.\")\n",
    "        elif num > a:\n",
    "            print(f\"{a}보다 큰 수 입니다.\")\n",
    "        \n",
    "    else :\n",
    "        print(\"정답을 맞추셨습니다.\")\n",
    "        break\n"
   ]
  },
  {
   "cell_type": "code",
   "execution_count": null,
   "id": "89279cfd",
   "metadata": {},
   "outputs": [],
   "source": [
    "num = random.randint(1, 50)\n",
    "\n",
    "while True:\n",
    "    a = int(input(\"숫자를 입력하세요 >> \"))\n",
    "    \n",
    "    if num > a :\n",
    "        print(f\"{a}보다 큰 수 입니다.\")\n",
    "    elif num < a :\n",
    "        print(f\"{a}보다 작은 수 입니다.\")\n",
    "    else :\n",
    "        print(\"정답을 맞추셨습니다.\")\n",
    "        break"
   ]
  },
  {
   "cell_type": "code",
   "execution_count": null,
   "id": "aacd85b0",
   "metadata": {},
   "outputs": [],
   "source": []
  },
  {
   "cell_type": "code",
   "execution_count": null,
   "id": "4d6692d3",
   "metadata": {},
   "outputs": [],
   "source": [
    "list_food = ['양꼬치', '닭갈비', '순대국밥']\n",
    "\n",
    "for food in list_food[2]:\n",
    "    print(food)"
   ]
  },
  {
   "cell_type": "code",
   "execution_count": null,
   "id": "57cc2f71",
   "metadata": {},
   "outputs": [],
   "source": [
    "hi = \"안녕하세요\"\n",
    "\n",
    "for s in hi:\n",
    "    print(s)"
   ]
  },
  {
   "cell_type": "code",
   "execution_count": null,
   "id": "ff64ccfe",
   "metadata": {},
   "outputs": [],
   "source": [
    "tuple_food = (\"버거킹\", \"맥도날드\", \"롯데리아\")\n",
    "for food in tuple_food:\n",
    "    print(food)"
   ]
  },
  {
   "cell_type": "code",
   "execution_count": null,
   "id": "abae76e0",
   "metadata": {},
   "outputs": [],
   "source": [
    "score_list = [90, 45, 70, 60, 55]\n",
    "\n",
    "n = 0\n",
    "for score in score_list:\n",
    "    n += 1\n",
    "    if score >= 60:\n",
    "        print(f\"{n}번 학생은 합격입니다.\")\n",
    "    else:\n",
    "        print(f\"{n}번 학생은 불합격입니다.\")\n",
    "    n += 1    "
   ]
  },
  {
   "cell_type": "code",
   "execution_count": null,
   "id": "7de7278b",
   "metadata": {},
   "outputs": [],
   "source": []
  },
  {
   "cell_type": "code",
   "execution_count": null,
   "id": "13821bb9",
   "metadata": {},
   "outputs": [],
   "source": [
    "python_score = [57, 86, 63, 92, 35, 79]\n",
    "\n",
    "n = 1\n",
    "\n",
    "for i in python_score:\n",
    "    \n",
    "    if i >= 80:\n",
    "        print(f\"{n}번은 {i}점 이며, A등급 입니다.\")\n",
    "    elif i >= 60:\n",
    "        print(f\"{n}번은 {i}점 이며, B등급 입니다.\")\n",
    "    elif i < 60:\n",
    "        print(f\"{n}번은 {i}점 이며, C등급 입니다.\")\n",
    "        \n",
    "    n += 1    "
   ]
  },
  {
   "cell_type": "code",
   "execution_count": null,
   "id": "b819015c",
   "metadata": {},
   "outputs": [],
   "source": [
    "python_score = [57, 86, 63, 92, 35, 79]\n",
    "\n",
    "n = 0\n",
    "\n",
    "for i in python_score:\n",
    "    \n",
    "    if i >= 80:\n",
    "        grade = \"A\"\n",
    "    elif i >= 60:\n",
    "        grade = \"B\"\n",
    "    elif i < 60:\n",
    "        grade = \"C\"    \n",
    "   \n",
    "    n += 1   \n",
    "    print(f\"{n}번은 {i}점 이며, {grade}등급 입니다.\")"
   ]
  },
  {
   "cell_type": "code",
   "execution_count": null,
   "id": "2d3b298b",
   "metadata": {},
   "outputs": [],
   "source": []
  },
  {
   "cell_type": "code",
   "execution_count": null,
   "id": "4178d3ed",
   "metadata": {},
   "outputs": [],
   "source": [
    "for i in range(10, 1, -1): # 원하는 횟수만큼 반복할 수 있다.\n",
    "    print(i, end = \"\\t\")"
   ]
  },
  {
   "cell_type": "code",
   "execution_count": null,
   "id": "a8f10839",
   "metadata": {},
   "outputs": [],
   "source": [
    "for i in range(98, 76, -1):\n",
    "    print(i, end=\" \")"
   ]
  },
  {
   "cell_type": "code",
   "execution_count": null,
   "id": "4bbadd3a",
   "metadata": {},
   "outputs": [],
   "source": [
    "for i in range(23, 40, 1):\n",
    "    print(i, end=\" \")"
   ]
  },
  {
   "cell_type": "code",
   "execution_count": null,
   "id": "27e1eb68",
   "metadata": {},
   "outputs": [],
   "source": [
    "for i in range(2, 101, 2):\n",
    "    print(i, end=\" \")"
   ]
  },
  {
   "cell_type": "code",
   "execution_count": null,
   "id": "5578d95d",
   "metadata": {},
   "outputs": [],
   "source": [
    "for i in range(3, 100, 3):\n",
    "    print(i, end=\" \")"
   ]
  },
  {
   "cell_type": "code",
   "execution_count": null,
   "id": "73384833",
   "metadata": {},
   "outputs": [],
   "source": [
    "list1 = [[1, 2], [3, 4], [5, 6]]\n",
    "for i, j in list1:\n",
    "    print(i, j)"
   ]
  },
  {
   "cell_type": "code",
   "execution_count": null,
   "id": "f22662d1",
   "metadata": {},
   "outputs": [],
   "source": [
    "a, b = 1, 7\n",
    "print(a)\n",
    "print(b)"
   ]
  },
  {
   "cell_type": "code",
   "execution_count": null,
   "id": "7f22a25c",
   "metadata": {},
   "outputs": [],
   "source": [
    "list2 = [4, 5, 2, 1, 99, 15, 2, 7, 27]\n",
    "\n",
    "max_num = list2[0] # 변수를 인덱스로 설정하는 방법!\n",
    "\n",
    "for i in list2:\n",
    "    if i > max_num:\n",
    "        max_num = i\n",
    "print(max_num)\n"
   ]
  },
  {
   "cell_type": "code",
   "execution_count": null,
   "id": "cbc6bf2a",
   "metadata": {},
   "outputs": [],
   "source": [
    "list2 = [4, 5, 2, 1, 99, 15, 2, 7, 27]\n",
    "\n",
    "min_num = list2[0] \n",
    "\n",
    "for i in list2:\n",
    "    if i < min_num:\n",
    "        min_num = i\n",
    "print(min_num)"
   ]
  },
  {
   "cell_type": "code",
   "execution_count": null,
   "id": "6dfd341f",
   "metadata": {},
   "outputs": [],
   "source": [
    "marks = [90, 25, 67, 45, 80]\n",
    "\n",
    "number = 0\n",
    "for mark in marks:\n",
    "    number = number + 1\n",
    "    if mark < 60: continue\n",
    "    print(\"%d번 학생 축하합니다. 합격입니다.\"% number)"
   ]
  },
  {
   "cell_type": "code",
   "execution_count": null,
   "id": "67f8debe",
   "metadata": {},
   "outputs": [],
   "source": []
  },
  {
   "cell_type": "code",
   "execution_count": null,
   "id": "b515f0b8",
   "metadata": {},
   "outputs": [],
   "source": [
    "a = 0\n",
    "\n",
    "for i in range(3, 101, 3):\n",
    "    a = a + i\n",
    "print(a)"
   ]
  },
  {
   "cell_type": "code",
   "execution_count": null,
   "id": "a45f30d9",
   "metadata": {},
   "outputs": [],
   "source": [
    "\n",
    "for i in range(1, 10):\n",
    "    print(f\"2 * {i} = {2*i}\") # 구구단에서 고정되는 값이 무엇인지 확인하면 답이 나온다.\n",
    "    \n",
    "for i in range(1, 10):\n",
    "    print(f\"3 * {i} = {3*i}\")"
   ]
  },
  {
   "cell_type": "code",
   "execution_count": null,
   "id": "b1911277",
   "metadata": {},
   "outputs": [],
   "source": [
    "total = 0\n",
    "for i in range(0, 100, 3):\n",
    "    total += i\n",
    "print(total)    "
   ]
  },
  {
   "cell_type": "code",
   "execution_count": null,
   "id": "366aef0c",
   "metadata": {},
   "outputs": [],
   "source": []
  },
  {
   "cell_type": "code",
   "execution_count": null,
   "id": "b6c5553b",
   "metadata": {},
   "outputs": [],
   "source": [
    "num = int(input(\"정수 입력 >> \"))\n",
    "\n",
    "for i in num:\n",
    "    if i % num == 0:\n",
    "        print(f\"{num}의 약수 : \")"
   ]
  },
  {
   "cell_type": "code",
   "execution_count": null,
   "id": "b7c12bb6",
   "metadata": {
    "scrolled": true
   },
   "outputs": [],
   "source": [
    "num = int(input(\"정수 입력 >> \"))\n",
    "\n",
    "print(f\"{num}의 약수 : \")\n",
    "for i in range(1, num+1):\n",
    "    \n",
    "    if num % i == 0:        \n",
    "        print(i, end=' ')\n"
   ]
  },
  {
   "cell_type": "code",
   "execution_count": null,
   "id": "aeb98f56",
   "metadata": {},
   "outputs": [],
   "source": [
    "num = int(input(\"정수 입력 >> \"))\n",
    "\n",
    "print(f\"{num}의 약수 : \", end='')\n",
    "for i in range(1, num+1, 1): # 모든 약수는 1과 본인을 포함함.\n",
    "    if num % i == 0:\n",
    "        print(i, end=' ')"
   ]
  },
  {
   "cell_type": "code",
   "execution_count": null,
   "id": "9e01ae7d",
   "metadata": {},
   "outputs": [],
   "source": [
    "for i in range(1, 7):\n",
    "    print(i*\"*\")"
   ]
  },
  {
   "cell_type": "code",
   "execution_count": null,
   "id": "297b3c7c",
   "metadata": {},
   "outputs": [],
   "source": [
    "num = int(input(\"줄 수 입력 >> \"))\n",
    "for i in range(1, num+1):\n",
    "    print(i*\"*\")\n",
    "    "
   ]
  },
  {
   "cell_type": "code",
   "execution_count": null,
   "id": "27feabbb",
   "metadata": {},
   "outputs": [],
   "source": [
    "num = int(input(\"줄 수 입력 >> \"))\n",
    "for i in range(1, num+1):\n",
    "    print(i*\"*\")\n",
    "for i in range(num-1, 0, -1):\n",
    "    print(i*\"*\")    "
   ]
  },
  {
   "cell_type": "code",
   "execution_count": null,
   "id": "2e127983",
   "metadata": {},
   "outputs": [],
   "source": [
    "start = int(input(\"첫 번째 정수 입력 >> \"))\n",
    "end = int(input(\"두 번째 정수 입력 >> \"))\n",
    "\n",
    "for i in range(start, end+1, 1):\n",
    "    print(i, end=\" \")"
   ]
  },
  {
   "cell_type": "code",
   "execution_count": null,
   "id": "bf3ea4e4",
   "metadata": {},
   "outputs": [],
   "source": [
    "num1 = int(input(\"첫 번째 정수 입력 >> \"))\n",
    "num2 = int(input(\"두 번째 정수 입력 >> \"))\n",
    "num3 = int(input(\"배수 입력 >> \"))\n",
    "\n",
    "total = 0\n",
    "\n",
    "for i in range(num1, num2+1):\n",
    "    if i % num3 == 0:\n",
    "        total += i\n",
    "    \n",
    "print(f\"{num3}의 배수의 합 : {total}\")"
   ]
  },
  {
   "cell_type": "code",
   "execution_count": null,
   "id": "ed6f7fba",
   "metadata": {},
   "outputs": [],
   "source": [
    "s = \".nohtyp deen uoY ,trohs oot si efiL\"\n",
    "reverse_s = ''\n",
    "\n",
    "for i in s:\n",
    "    reverse_s = i + reverse_s\n",
    "print(reverse_s, end=' ')"
   ]
  },
  {
   "cell_type": "code",
   "execution_count": 10,
   "id": "fad768a2",
   "metadata": {},
   "outputs": [
    {
     "name": "stdout",
     "output_type": "stream",
     "text": [
      "Life is too short, You need python. "
     ]
    }
   ],
   "source": [
    "s = \".nohtyp deen uoY ,trohs oot si efiL\"\n",
    "reverse_s = ''\n",
    "\n",
    "for i in s:\n",
    "    reverse_s =  i + reverse_s\n",
    "print(reverse_s, end=' ')"
   ]
  },
  {
   "cell_type": "code",
   "execution_count": 8,
   "id": "d686d4f4",
   "metadata": {},
   "outputs": [
    {
     "name": "stdout",
     "output_type": "stream",
     "text": [
      "Life is too short, You need python."
     ]
    }
   ],
   "source": [
    "s = \".nohtyp deen uoY ,trohs oot si efiL\"\n",
    "\n",
    "for i in range(len(s)-1, -1, -1):\n",
    "    print(s[i], end='')\n"
   ]
  },
  {
   "cell_type": "code",
   "execution_count": null,
   "id": "44747a57",
   "metadata": {},
   "outputs": [],
   "source": [
    "s = \".nohtyp deen uoY ,trohs oot si efiL\"\n",
    "\n",
    "for i in range(-1, -len(s)-1, -1):\n",
    "    print(s[i], end='')"
   ]
  },
  {
   "cell_type": "code",
   "execution_count": null,
   "id": "3b3cbde2",
   "metadata": {},
   "outputs": [],
   "source": [
    "for i in range(1, 10):\n",
    "    print(f\"2 * {i} = {2*i}\", end=\"  \")\n",
    "    "
   ]
  },
  {
   "cell_type": "code",
   "execution_count": null,
   "id": "ab577127",
   "metadata": {},
   "outputs": [],
   "source": [
    "for i in range(2, 10):\n",
    "    for j in range(1, 10):\n",
    "        print(f\"{i}*{j}={i*j}\\t\", end=\"\") # 한줄로 길게 나온다.\n",
    "    print() # i에서 행을 바꾸기 위해 빈 프린트를 쓴다. 프린트문 자체가 하나의 행을 가진다."
   ]
  },
  {
   "cell_type": "code",
   "execution_count": 6,
   "id": "b9035290",
   "metadata": {},
   "outputs": [
    {
     "name": "stdout",
     "output_type": "stream",
     "text": [
      "2*1=2\t3*1=3\t4*1=4\t5*1=5\t6*1=6\t7*1=7\t8*1=8\t9*1=9\t\n",
      "2*2=4\t3*2=6\t4*2=8\t5*2=10\t6*2=12\t7*2=14\t8*2=16\t9*2=18\t\n",
      "2*3=6\t3*3=9\t4*3=12\t5*3=15\t6*3=18\t7*3=21\t8*3=24\t9*3=27\t\n",
      "2*4=8\t3*4=12\t4*4=16\t5*4=20\t6*4=24\t7*4=28\t8*4=32\t9*4=36\t\n",
      "2*5=10\t3*5=15\t4*5=20\t5*5=25\t6*5=30\t7*5=35\t8*5=40\t9*5=45\t\n",
      "2*6=12\t3*6=18\t4*6=24\t5*6=30\t6*6=36\t7*6=42\t8*6=48\t9*6=54\t\n",
      "2*7=14\t3*7=21\t4*7=28\t5*7=35\t6*7=42\t7*7=49\t8*7=56\t9*7=63\t\n",
      "2*8=16\t3*8=24\t4*8=32\t5*8=40\t6*8=48\t7*8=56\t8*8=64\t9*8=72\t\n",
      "2*9=18\t3*9=27\t4*9=36\t5*9=45\t6*9=54\t7*9=63\t8*9=72\t9*9=81\t\n"
     ]
    }
   ],
   "source": [
    "# 구구단(세로)\n",
    "for i in range(1, 10):\n",
    "    for j in range(2, 10):\n",
    "        print(f\"{j}*{i}={j*i}\\t\", end='') \n",
    "    print() "
   ]
  },
  {
   "cell_type": "code",
   "execution_count": null,
   "id": "ee48fe8d",
   "metadata": {},
   "outputs": [],
   "source": [
    "list1 = [1, 30, 7, 9, 17, 3, 5, 23, 44, 32, 35]\n",
    "\n",
    "# 나누었을때 나머지가 1또는0을 활용해서 \n",
    "\n",
    "a = 0\n",
    "b = 0\n",
    "\n",
    "for i in list1:\n",
    "    if i % 2 == 0:\n",
    "        a += 1   \n",
    "    else:\n",
    "        b += 1\n",
    "        \n",
    "print(f\"짝수 {a}개, 홀수 {b}개\")\n",
    "        "
   ]
  },
  {
   "cell_type": "code",
   "execution_count": null,
   "id": "d78e780b",
   "metadata": {},
   "outputs": [],
   "source": [
    "# 정답을 입력한다.\n",
    "#입력받은 정답이 o인지 아닌지 확인한다.\n",
    "#정답이 0면 1점을 부과하고 아니면 0점을 부과한다.\n",
    "#다음으로 입력받은 정답이 0인지 아닌지 확인한다.\n",
    "#다음으로 입력받은 정답이 0면 이전 부과한 1점에 추가로 1점을 부과한다.\n",
    "#다음으로 입력받은 정답이 0가 아니면 0점을 부과하고 끝낸다.\n",
    "#이걸 입력받은 개수만큼 반복한다.\n",
    "# 점수를 출력한다."
   ]
  },
  {
   "cell_type": "code",
   "execution_count": null,
   "id": "e95628be",
   "metadata": {},
   "outputs": [],
   "source": [
    "score = input(\"OX입력 >> \")\n",
    "\n",
    "a = 0\n",
    "\n",
    "for i in score:\n",
    "    if 'O' in score:\n",
    "        a += 1\n",
    "    elif score == 'X':\n",
    "        a = 0\n",
    "    #if score == 'O':\n",
    "     #   a += 1\n",
    "    #elif score == 'X':\n",
    "      #  a = 0\n",
    "            \n",
    "print(f\"{a}점\")            "
   ]
  },
  {
   "cell_type": "code",
   "execution_count": 7,
   "id": "319b0607",
   "metadata": {},
   "outputs": [
    {
     "name": "stdout",
     "output_type": "stream",
     "text": [
      "OX정답 입력 >> OXOO\n",
      "4점\n"
     ]
    }
   ],
   "source": [
    "\n",
    "score = 0\n",
    "O_score = 0\n",
    "OX = list(input(\"OX정답 입력 >> \"))\n",
    "for j in OX:\n",
    "    if j == 'O':\n",
    "        O_score += 1\n",
    "        score += O_score\n",
    "    else:\n",
    "        O_score = 0\n",
    "\n",
    "print(f\"{score}점\")"
   ]
  },
  {
   "cell_type": "code",
   "execution_count": 10,
   "id": "1f40547d",
   "metadata": {},
   "outputs": [
    {
     "name": "stdout",
     "output_type": "stream",
     "text": [
      "OX입력 >> OXOXOXOX\n",
      "4점\n"
     ]
    }
   ],
   "source": [
    "ox = input(\"OX입력 >> \")\n",
    "\n",
    "score = 0\n",
    "result = 0\n",
    "\n",
    "for i in range(0, len(ox), 1):\n",
    "    if ox[i] == 'O':\n",
    "        score += 1\n",
    "        result += score # result = result + score\n",
    "    else:\n",
    "        score = 0\n",
    "        \n",
    "print(f\"{result}점\")        "
   ]
  },
  {
   "cell_type": "code",
   "execution_count": 35,
   "id": "d7d581de",
   "metadata": {},
   "outputs": [],
   "source": [
    "score_list = [[\"박매일\", 89, 78, 99],\n",
    "              [\"김미희\", 67, 88, 77],\n",
    "              [\"강예진\", 100, 55, 96],\n",
    "              [\"최성우\", 100, 100, 100]\n",
    "             ]\n",
    "\n",
    "# len(score_list) 개수를 구해서 평균을 구할수 있다."
   ]
  },
  {
   "cell_type": "code",
   "execution_count": 20,
   "id": "517b1fb6",
   "metadata": {},
   "outputs": [
    {
     "name": "stdout",
     "output_type": "stream",
     "text": [
      "89\n",
      "67\n",
      "100\n"
     ]
    }
   ],
   "source": [
    "# for i in score_list:\n",
    "#    print(i[1]) # 이차원 리스트 인덱싱은 한번더 들어가줘야 한다."
   ]
  },
  {
   "cell_type": "code",
   "execution_count": 36,
   "id": "7e6c757a",
   "metadata": {},
   "outputs": [
    {
     "name": "stdout",
     "output_type": "stream",
     "text": [
      "==================================================\n",
      "이름\t Python\t Java\t DB\t 평균\t 학점\n",
      "==================================================\n",
      "박매일 \t 89 \t 78 \t 99 \t 88 \t B\n",
      "김미희 \t 67 \t 88 \t 77 \t 77 \t C\n",
      "강예진 \t 100 \t 55 \t 96 \t 83 \t B\n",
      "최성우 \t 100 \t 100 \t 100 \t 100 \t A\n",
      "==================================================\n",
      "평균\t 89 \t 80 \t 93\n"
     ]
    }
   ],
   "source": [
    " # 숙제문제 성적표 제작!\n",
    "    \n",
    "print(\"=\"*50)\n",
    "print(\"이름\\t\", \"Python\\t\", \"Java\\t\", \"DB\\t\", \"평균\\t\", \"학점\")\n",
    "print(\"=\"*50)\n",
    "\n",
    "python, java, db = 0, 0, 0\n",
    "\n",
    "for i in score_list:\n",
    "    # 선생님별 평균\n",
    "    avg = (i[1]+i[2]+i[3]) / 3\n",
    "    # 과목별 평균\n",
    "    avg_P, avg_J, avg_D = 0, 0, 0\n",
    "    \n",
    "    if avg >= 90 :\n",
    "        grade = 'A'\n",
    "    elif avg >= 80 :\n",
    "        grade = 'B'\n",
    "    elif avg >= 70 :\n",
    "        grade = 'C'\n",
    "    elif avg >= 60 :\n",
    "        grade = 'D'\n",
    "    else :\n",
    "        grade = 'F'\n",
    "    # 4 ~ 6번째 줄까지 출력    \n",
    "    print(i[0], \"\\t\", i[1], \"\\t\", i[2], \"\\t\", i[3], \"\\t\", int(avg), \"\\t\", grade)\n",
    "    \n",
    "    # 과목별 평균 구하기\n",
    "    python += i[1] # 파이썬점수의 합\n",
    "    java += i[2] # 자바점수의 합\n",
    "    db += i[3] # 디비점수의 합\n",
    "# 과목별 평균은 for문 밖으로 꺼내준다.    \n",
    "avg_P = python / len(score_list)\n",
    "avg_J = java / len(score_list)\n",
    "avg_D = db / len(score_list)\n",
    "\n",
    "print(\"=\"*50)\n",
    "\n",
    "# 맨 마지막줄 출력\n",
    "\n",
    "print(\"평균\\t\", int(avg_P), \"\\t\", int(avg_J), \"\\t\", int(avg_D))"
   ]
  },
  {
   "cell_type": "code",
   "execution_count": null,
   "id": "87362201",
   "metadata": {},
   "outputs": [],
   "source": []
  },
  {
   "cell_type": "code",
   "execution_count": null,
   "id": "eaab7cc0",
   "metadata": {},
   "outputs": [],
   "source": []
  },
  {
   "cell_type": "code",
   "execution_count": null,
   "id": "088dc53d",
   "metadata": {},
   "outputs": [],
   "source": []
  },
  {
   "cell_type": "code",
   "execution_count": null,
   "id": "d86b3e16",
   "metadata": {},
   "outputs": [],
   "source": []
  },
  {
   "cell_type": "code",
   "execution_count": null,
   "id": "df203ad0",
   "metadata": {},
   "outputs": [],
   "source": []
  }
 ],
 "metadata": {
  "kernelspec": {
   "display_name": "Python 3 (ipykernel)",
   "language": "python",
   "name": "python3"
  },
  "language_info": {
   "codemirror_mode": {
    "name": "ipython",
    "version": 3
   },
   "file_extension": ".py",
   "mimetype": "text/x-python",
   "name": "python",
   "nbconvert_exporter": "python",
   "pygments_lexer": "ipython3",
   "version": "3.9.12"
  },
  "toc": {
   "base_numbering": 1,
   "nav_menu": {},
   "number_sections": true,
   "sideBar": true,
   "skip_h1_title": false,
   "title_cell": "Table of Contents",
   "title_sidebar": "Contents",
   "toc_cell": false,
   "toc_position": {},
   "toc_section_display": true,
   "toc_window_display": false
  }
 },
 "nbformat": 4,
 "nbformat_minor": 5
}
