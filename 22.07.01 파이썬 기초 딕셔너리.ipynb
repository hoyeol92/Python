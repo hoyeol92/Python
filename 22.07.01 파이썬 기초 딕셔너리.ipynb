{
 "cells": [
  {
   "cell_type": "code",
   "execution_count": 1,
   "id": "b8d122e5",
   "metadata": {},
   "outputs": [
    {
     "data": {
      "text/plain": [
       "13"
      ]
     },
     "execution_count": 1,
     "metadata": {},
     "output_type": "execute_result"
    }
   ],
   "source": [
    "def number_sum(num1, num2):\n",
    "    result = num1 + num2\n",
    "    return result\n",
    "\n",
    "number_sum(3, 10)"
   ]
  },
  {
   "cell_type": "code",
   "execution_count": 2,
   "id": "8b52e1fb",
   "metadata": {},
   "outputs": [
    {
     "data": {
      "text/plain": [
       "13"
      ]
     },
     "execution_count": 2,
     "metadata": {},
     "output_type": "execute_result"
    }
   ],
   "source": [
    "number = number_sum(3, 10)\n",
    "number"
   ]
  },
  {
   "cell_type": "code",
   "execution_count": null,
   "id": "92f11169",
   "metadata": {},
   "outputs": [],
   "source": []
  },
  {
   "cell_type": "code",
   "execution_count": 4,
   "id": "fbfdb91e",
   "metadata": {},
   "outputs": [
    {
     "name": "stdout",
     "output_type": "stream",
     "text": [
      "첫 번째 정수 입력 >> 5\n",
      "두 번째 정수 입력 >> 2\n",
      "3\n"
     ]
    }
   ],
   "source": [
    "num1 = int((input(\"첫 번째 정수 입력 >> \")))\n",
    "num2 = int((input(\"두 번째 정수 입력 >> \")))\n",
    "\n",
    "def number_minus(num1, num2):\n",
    "    result = num1 - num2\n",
    "    return result\n",
    "\n",
    "result = number_minus(num1, num2)\n",
    "print(result)"
   ]
  },
  {
   "cell_type": "code",
   "execution_count": null,
   "id": "124a2d29",
   "metadata": {},
   "outputs": [],
   "source": [
    "num1 = int((input(\"첫 번째 정수 입력 >> \")))\n",
    "num2 = int((input(\"두 번째 정수 입력 >> \")))\n",
    "op = input(\"연산자 입력(+,-) >> \")\n",
    "\n",
    "def number_cal(num1, num2, op):\n",
    "    result = num1 \n",
    "\n",
    "result = cal(num1, num2, op)\n",
    "print(\"결과 : {}\".format(result))"
   ]
  },
  {
   "cell_type": "code",
   "execution_count": null,
   "id": "3e4c596e",
   "metadata": {},
   "outputs": [],
   "source": []
  },
  {
   "cell_type": "code",
   "execution_count": null,
   "id": "282cb62d",
   "metadata": {},
   "outputs": [],
   "source": []
  },
  {
   "cell_type": "code",
   "execution_count": null,
   "id": "759a34c7",
   "metadata": {},
   "outputs": [],
   "source": []
  },
  {
   "cell_type": "code",
   "execution_count": null,
   "id": "487da233",
   "metadata": {},
   "outputs": [],
   "source": []
  },
  {
   "cell_type": "code",
   "execution_count": null,
   "id": "97a47206",
   "metadata": {},
   "outputs": [],
   "source": []
  },
  {
   "cell_type": "code",
   "execution_count": null,
   "id": "609a86d9",
   "metadata": {},
   "outputs": [],
   "source": []
  },
  {
   "cell_type": "code",
   "execution_count": null,
   "id": "23322b2c",
   "metadata": {},
   "outputs": [],
   "source": []
  },
  {
   "cell_type": "code",
   "execution_count": null,
   "id": "2381539d",
   "metadata": {},
   "outputs": [],
   "source": []
  },
  {
   "cell_type": "code",
   "execution_count": null,
   "id": "8ed81bf9",
   "metadata": {},
   "outputs": [],
   "source": []
  },
  {
   "cell_type": "code",
   "execution_count": null,
   "id": "4d2ee7a9",
   "metadata": {},
   "outputs": [],
   "source": []
  },
  {
   "cell_type": "code",
   "execution_count": null,
   "id": "7257a075",
   "metadata": {},
   "outputs": [],
   "source": []
  },
  {
   "cell_type": "code",
   "execution_count": null,
   "id": "7a68cf59",
   "metadata": {},
   "outputs": [],
   "source": []
  },
  {
   "cell_type": "code",
   "execution_count": null,
   "id": "940d2d69",
   "metadata": {},
   "outputs": [],
   "source": []
  },
  {
   "cell_type": "code",
   "execution_count": null,
   "id": "ee705656",
   "metadata": {},
   "outputs": [],
   "source": [
    "review_naver = [\"윌스미스가 하드캐리 ㅋㅋㅋㅋㅋㅋㅋ\",\n",
    "                \"쟈스민 너무 멋지고 팬 엄청나게 생길듯\", \n",
    "                \"기대보다 더욱 재미있는 영화였다.\"]\n",
    "\n",
    "review_google = [\"색감도 노래도 너무 화려하고 재밌었어요ㅋㅋㅋㅋㅋㅋ\",\n",
    "                 \"ㅋㅋ오늘부터 디즈니 팬 입니다.ㅋㅋ\",\n",
    "                 \"디즈니의 새로운 해석도 놀랍고, 윌스미스도 신의한수!\"]\n",
    "                 \n"
   ]
  },
  {
   "cell_type": "code",
   "execution_count": null,
   "id": "b25caa12",
   "metadata": {},
   "outputs": [],
   "source": [
    "for i in review_naver:\n",
    "    print(i.replace(\"ㅋ\", \"\"))\n",
    "for i in review_google:\n",
    "    print(i.replace(\"ㅋ\", \"\"))"
   ]
  },
  {
   "cell_type": "code",
   "execution_count": null,
   "id": "d1c528cc",
   "metadata": {},
   "outputs": [],
   "source": [
    "def string_replace(num_list) :\n",
    "    for i in num_list:\n",
    "        print(i.replace(\"ㅋ\", \"\"))\n"
   ]
  },
  {
   "cell_type": "code",
   "execution_count": null,
   "id": "0aad26b8",
   "metadata": {},
   "outputs": [],
   "source": [
    "string_replace(review_naver)  \n",
    "string_replace(review_google) "
   ]
  },
  {
   "cell_type": "code",
   "execution_count": null,
   "id": "2b727e6d",
   "metadata": {},
   "outputs": [],
   "source": []
  },
  {
   "cell_type": "code",
   "execution_count": null,
   "id": "f98defbf",
   "metadata": {},
   "outputs": [],
   "source": []
  }
 ],
 "metadata": {
  "kernelspec": {
   "display_name": "Python 3 (ipykernel)",
   "language": "python",
   "name": "python3"
  },
  "language_info": {
   "codemirror_mode": {
    "name": "ipython",
    "version": 3
   },
   "file_extension": ".py",
   "mimetype": "text/x-python",
   "name": "python",
   "nbconvert_exporter": "python",
   "pygments_lexer": "ipython3",
   "version": "3.9.12"
  }
 },
 "nbformat": 4,
 "nbformat_minor": 5
}
