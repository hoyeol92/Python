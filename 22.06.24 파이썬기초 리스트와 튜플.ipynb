{
 "cells": [
  {
   "cell_type": "code",
   "execution_count": 1,
   "id": "1a60224f",
   "metadata": {},
   "outputs": [
    {
     "name": "stdout",
     "output_type": "stream",
     "text": [
      "================================================\n",
      "insert coin >> 5000\n",
      "메뉴선택 >> 3\n",
      "콜라가 나왔습니다.\n",
      "잔돈이 얼마입니다.\n"
     ]
    }
   ],
   "source": [
    "# 자판기 프로그램 만들기\n",
    "\n",
    "print(\"=\"*48)\n",
    "\n",
    "money = int(input(\"insert coin >> \"))\n",
    "menu = int(input(\"메뉴선택 >> \"))\n",
    "\n",
    "coke = 600\n",
    "sprite = 800\n",
    "water = 1000 \n",
    "\n",
    "if money >= 600:\n",
    "    if coke:\n",
    "        print(\"콜라가 나왔습니다.\")\n",
    "        if money - coke:\n",
    "            print(\"잔돈이 얼마입니다.\")\n",
    "        else :\n",
    "            print(\"잔돈이 없습니다.\")\n",
    "    elif sprite:\n",
    "        print(\"사이다가 나왔습니다.\")\n",
    "        if money - coke:\n",
    "            print(\"잔돈이 얼마입니다.\")\n",
    "        else :\n",
    "            print(\"잔돈이 없습니다.\")\n",
    "    elif sprite:\n",
    "        print(\"물이 나왔습니다.\")\n",
    "        if money - coke:\n",
    "            print(\"잔돈이 얼마입니다.\")\n",
    "        else :\n",
    "            print(\"잔돈이 없습니다.\")\n",
    "    else :\n",
    "        print(\"잔액이 부족합니다.\")\n",
    "        \n",
    "        \n",
    "\n",
    "else:\n",
    "    print(\"금액이 부족합니다. 돈을 더 넣으세요.\")"
   ]
  },
  {
   "cell_type": "code",
   "execution_count": null,
   "id": "24a0d1bc",
   "metadata": {},
   "outputs": [],
   "source": []
  },
  {
   "cell_type": "markdown",
   "id": "3c6d58a5",
   "metadata": {},
   "source": [
    "### 조건문을 활용한 자판기 문제 풀이 정답"
   ]
  },
  {
   "cell_type": "markdown",
   "id": "75b79819",
   "metadata": {},
   "source": [
    "### 자판기 프로그램 만들기 문제\n",
    "\n",
    "- 메뉴출력, 돈입력(600원 이상)\n",
    "- 메뉴선택 (600원 미만이면 메뉴선택 시 더 넣으라는 문구 출력), \n",
    "- 결과확인\n",
    "  - 1 ~ 3번 메뉴가 아닐 시'잘못된 메뉴'출력\n",
    "  - 잔액부족 시 '잔액부족' 출력\n",
    "  - 잔돈출력(1000원, 500원, 100원 개수로)"
   ]
  },
  {
   "cell_type": "code",
   "execution_count": 2,
   "id": "cf5fd5f1",
   "metadata": {},
   "outputs": [
    {
     "name": "stdout",
     "output_type": "stream",
     "text": [
      "**************************************************\n",
      "**************************************************\n",
      "******1. 콜라******2. 사이다*********3. 물  ******\n",
      "****** 600원 ******  800원  *********  1000원  ***\n",
      "**************************************************\n",
      "**************************************************\n",
      "**************************************************\n",
      "****************       ***************************\n",
      "****************  LHY  ***************************\n",
      "****************       ***************************\n",
      "**************************************************\n",
      "**************************************************\n",
      "\n",
      "insert coin >> 5000\n",
      "메뉴 선택 >> 3\n",
      "잔돈 >> 천원 4개, 오백원 0개, 백원0개\n"
     ]
    }
   ],
   "source": [
    "print(\"\"\"**************************************************\n",
    "**************************************************\n",
    "******1. 콜라******2. 사이다*********3. 물  ******\n",
    "****** 600원 ******  800원  *********  1000원  ***\n",
    "**************************************************\n",
    "**************************************************\n",
    "**************************************************\n",
    "****************       ***************************\n",
    "****************  LHY  ***************************\n",
    "****************       ***************************\n",
    "**************************************************\n",
    "**************************************************\n",
    "\"\"\")\n",
    "\n",
    "money = int(input(\"insert coin >> \"))\n",
    "num = int(input(\"메뉴 선택 >> \"))\n",
    "\n",
    "# 메뉴 선택하기\n",
    "if money >= 600 :\n",
    "    if num == 1 : # 1번 메뉴 선택\n",
    "        money -= 600\n",
    "    elif num == 2 :\n",
    "        money -= 800\n",
    "    elif num == 3 :\n",
    "        money -= 1000\n",
    "    else :\n",
    "        print(\"잘못된 메뉴입니다.\")\n",
    "        \n",
    "# 잔돈계산 (변수를 초기화하자)\n",
    "\n",
    "    cash_1000, cash_500, cash_100 = 0, 0, 0 # 초기에는 0값을 넣어준다. 들여쓰기주의\n",
    "    \n",
    "    if money >= 1000 :\n",
    "     # 1000원짜리 개수 구하는 방법   \n",
    "        cash_1000 = money // 1000\n",
    "     # 500원짜리 개수 구하는 방법    \n",
    "        cash_500 = money % 1000 // 500\n",
    "     # 100원짜리 개수 구하는 방법    \n",
    "        cash_100 = money % 1000 % 500 // 100 # 앞에 나누는 수가 뒤에 나눌 수의 배수면 생략이 가능하다.\n",
    "    # 1000원 미만 500원 이상일 경우 \n",
    "    elif money >= 500:\n",
    "        cash_500 = money // 500\n",
    "        cash_100 = money % 500 // 100\n",
    "    # 500원 미만일 경우\n",
    "    else:\n",
    "        cash_100 = money // 100\n",
    "        \n",
    "    print(f\"잔돈 >> 천원 {cash_1000}개, 오백원 {cash_500}개, 백원{cash_100}개\")\n",
    "    \n",
    "else:\n",
    "    print(\"돈을 더 넣어 주세요~~!\") # 잔액부족\n",
    "    \n",
    "    \n"
   ]
  },
  {
   "cell_type": "code",
   "execution_count": null,
   "id": "91630114",
   "metadata": {},
   "outputs": [],
   "source": []
  },
  {
   "cell_type": "markdown",
   "id": "91e88828",
   "metadata": {},
   "source": [
    "# 리스트와 튜플"
   ]
  },
  {
   "cell_type": "code",
   "execution_count": 3,
   "id": "ace7da39",
   "metadata": {},
   "outputs": [
    {
     "name": "stdout",
     "output_type": "stream",
     "text": [
      "2\n",
      "9\n",
      "17\n"
     ]
    }
   ],
   "source": [
    "list1 = [2, 5, 7, 9, 10]\n",
    "\n",
    "print(list1[0])\n",
    "print(list1[3])\n",
    "print(list1[2] + list1[-1])"
   ]
  },
  {
   "cell_type": "code",
   "execution_count": 4,
   "id": "ff57da69",
   "metadata": {},
   "outputs": [
    {
     "name": "stdout",
     "output_type": "stream",
     "text": [
      "['a', 'b', 'c']\n"
     ]
    }
   ],
   "source": [
    "# 공간을 확장하는 방법\n",
    "\n",
    "list2 = [1, 2, 3, ['a', 'b', 'c']] # 이차원 리스트 : 리스트안에리스트가있는경우\n",
    "\n",
    "temp = list2[3]\n",
    "\n",
    "print(temp)\n"
   ]
  },
  {
   "cell_type": "code",
   "execution_count": 5,
   "id": "4178e871",
   "metadata": {},
   "outputs": [
    {
     "ename": "IndexError",
     "evalue": "list index out of range",
     "output_type": "error",
     "traceback": [
      "\u001b[1;31m---------------------------------------------------------------------------\u001b[0m",
      "\u001b[1;31mIndexError\u001b[0m                                Traceback (most recent call last)",
      "Input \u001b[1;32mIn [5]\u001b[0m, in \u001b[0;36m<cell line: 2>\u001b[1;34m()\u001b[0m\n\u001b[0;32m      1\u001b[0m list2 \u001b[38;5;241m=\u001b[39m [\u001b[38;5;241m1\u001b[39m, \u001b[38;5;241m2\u001b[39m, \u001b[38;5;241m3\u001b[39m, [\u001b[38;5;124m'\u001b[39m\u001b[38;5;124ma\u001b[39m\u001b[38;5;124m'\u001b[39m, \u001b[38;5;124m'\u001b[39m\u001b[38;5;124mb\u001b[39m\u001b[38;5;124m'\u001b[39m, \u001b[38;5;124m'\u001b[39m\u001b[38;5;124mc\u001b[39m\u001b[38;5;124m'\u001b[39m]] \n\u001b[1;32m----> 2\u001b[0m temp \u001b[38;5;241m=\u001b[39m \u001b[43mlist2\u001b[49m\u001b[43m[\u001b[49m\u001b[38;5;241;43m3\u001b[39;49m\u001b[43m]\u001b[49m\u001b[43m[\u001b[49m\u001b[38;5;241;43m3\u001b[39;49m\u001b[43m]\u001b[49m \u001b[38;5;66;03m# 리스트 안에 리스트를 인덱싱하는 방법\u001b[39;00m\n\u001b[0;32m      4\u001b[0m \u001b[38;5;28mprint\u001b[39m(temp)\n",
      "\u001b[1;31mIndexError\u001b[0m: list index out of range"
     ]
    }
   ],
   "source": [
    "list2 = [1, 2, 3, ['a', 'b', 'c']] \n",
    "temp = list2[3][3] # 리스트 안에 리스트를 인덱싱하는 방법\n",
    "\n",
    "print(temp)"
   ]
  },
  {
   "cell_type": "code",
   "execution_count": null,
   "id": "61c86738",
   "metadata": {},
   "outputs": [],
   "source": [
    "list3 = [0, 1, 2, 3, 4]\n",
    "\n",
    "list3[3:6]"
   ]
  },
  {
   "cell_type": "code",
   "execution_count": null,
   "id": "a22d577c",
   "metadata": {},
   "outputs": [],
   "source": [
    "list4 = [1, 2, 3]\n",
    "list5 = [3, 4, 5, 6]\n",
    "\n",
    "list4 + list5 # 두 리스트가 하나의 리스트로 합쳐진다. 우측으로 붙는다."
   ]
  },
  {
   "cell_type": "code",
   "execution_count": null,
   "id": "e850a96f",
   "metadata": {},
   "outputs": [],
   "source": [
    "list5 = [0, 1, 2, 3, 4]\n",
    "\n",
    "list5.append(5)\n",
    "list5\n",
    "\n",
    "list5.append(6)\n",
    "list5"
   ]
  },
  {
   "cell_type": "code",
   "execution_count": null,
   "id": "831ffbf6",
   "metadata": {},
   "outputs": [],
   "source": []
  },
  {
   "cell_type": "code",
   "execution_count": null,
   "id": "5eef6f2e",
   "metadata": {},
   "outputs": [],
   "source": [
    "list_ = ['사과', '포도', ['수박', '멜론'], '복숭아', '딸기', '오렌지']\n",
    "\n",
    "a = list_[0] # 사과\n",
    "b = list_[2][0] # 수박\n",
    "c = list_[-1] # 오렌지\n",
    "\n",
    "choice_list = []\n",
    "\n",
    "choice_list.append(a)\n",
    "choice_list.append(c)\n",
    "choice_list.append(b)\n",
    "\n",
    "choice_list"
   ]
  },
  {
   "cell_type": "code",
   "execution_count": null,
   "id": "7145f9b3",
   "metadata": {},
   "outputs": [],
   "source": []
  },
  {
   "cell_type": "code",
   "execution_count": null,
   "id": "de691e3a",
   "metadata": {},
   "outputs": [],
   "source": [
    "list5 = [0, 1, 2, 3, 4]\n",
    "list5.insert(1, 5)\n",
    "list5\n",
    "list5.insert(5, 6)\n",
    "list5"
   ]
  },
  {
   "cell_type": "code",
   "execution_count": null,
   "id": "8c9ab15d",
   "metadata": {},
   "outputs": [],
   "source": []
  },
  {
   "cell_type": "code",
   "execution_count": null,
   "id": "a19797cd",
   "metadata": {},
   "outputs": [],
   "source": [
    "music_list = [[\"LOVE DIVE\", \"IVE\"], [\"TOMBOY\", \"()아이들\"], [\"That That\", \"PSY\"]]\n",
    "\n",
    "music_list.insert(1, [\"사랑인가봐\", \"멜로망스\"])\n",
    "music_list\n",
    "\n",
    "music_list.insert(3, [\"봄여름가을겨울\", \"빅뱅\"])\n",
    "music_list"
   ]
  },
  {
   "cell_type": "code",
   "execution_count": null,
   "id": "883335e5",
   "metadata": {},
   "outputs": [],
   "source": []
  },
  {
   "cell_type": "code",
   "execution_count": null,
   "id": "9dd63a27",
   "metadata": {},
   "outputs": [],
   "source": [
    "index_value = int(input(\"인덱스 입력 >> \"))\n",
    "song = input(\"노래 제목 >> \")\n",
    "singer = input(\"가수명 >> \")\n",
    "\n",
    "music_list.insert(index_value, [f\"{song}, {singer}\"])\n",
    "music_list"
   ]
  },
  {
   "cell_type": "code",
   "execution_count": null,
   "id": "91861ae3",
   "metadata": {},
   "outputs": [],
   "source": [
    "list6 = [0, 1, 2, 3, 4]\n",
    "list6"
   ]
  },
  {
   "cell_type": "code",
   "execution_count": null,
   "id": "bed7d7d4",
   "metadata": {},
   "outputs": [],
   "source": [
    "print(\"수정 전 :\", list6[1])\n",
    "list6[1] = 7\n",
    "print(\"수정 후 :\", list6[1])\n",
    "list6"
   ]
  },
  {
   "cell_type": "code",
   "execution_count": null,
   "id": "c3cd8de5",
   "metadata": {},
   "outputs": [],
   "source": [
    "list6[2:4] = 7\n",
    "list6"
   ]
  },
  {
   "cell_type": "code",
   "execution_count": null,
   "id": "d592c83f",
   "metadata": {},
   "outputs": [],
   "source": [
    "print(list6[2:4])\n",
    "list6[2:4] = [7]\n",
    "list6"
   ]
  },
  {
   "cell_type": "code",
   "execution_count": null,
   "id": "696e7ada",
   "metadata": {},
   "outputs": [],
   "source": [
    "array = [1, 2, 3, 4, 5]\n",
    "\n",
    "array[-1] = 7\n",
    "array"
   ]
  },
  {
   "cell_type": "code",
   "execution_count": null,
   "id": "ee4ed9eb",
   "metadata": {},
   "outputs": [],
   "source": [
    "array[1] = ['a', 'b', 'c']\n",
    "array"
   ]
  },
  {
   "cell_type": "code",
   "execution_count": null,
   "id": "311584b9",
   "metadata": {},
   "outputs": [],
   "source": [
    "array[3:] = 'd', 'e', 'f', 'g'\n",
    "array"
   ]
  },
  {
   "cell_type": "code",
   "execution_count": null,
   "id": "d7c8f365",
   "metadata": {},
   "outputs": [],
   "source": [
    "array[0:1] = ['h', 'i', 'j'] # 하나의 인덱스에 여러가지 요소 넣는 방법\n",
    "array"
   ]
  },
  {
   "cell_type": "markdown",
   "id": "0de24e37",
   "metadata": {},
   "source": [
    "### 리스트 삭제"
   ]
  },
  {
   "cell_type": "code",
   "execution_count": null,
   "id": "2dd4569a",
   "metadata": {},
   "outputs": [],
   "source": [
    "list7 = [0, 1, 2, 3, 4, 5]\n",
    "\n",
    "del list7[1]\n",
    "\n",
    "list7"
   ]
  },
  {
   "cell_type": "code",
   "execution_count": null,
   "id": "37b7f9e4",
   "metadata": {},
   "outputs": [],
   "source": [
    "list7 = [0, 1, 2, 3, 4, 5]\n",
    "\n",
    "del list7[1:5]\n",
    "\n",
    "list7"
   ]
  },
  {
   "cell_type": "code",
   "execution_count": null,
   "id": "b55acaa3",
   "metadata": {},
   "outputs": [],
   "source": [
    "list7 = ['a', 'b', 'c', 'd', 'e']\n",
    "\n",
    "list7.remove('b')\n",
    "\n",
    "list7\n",
    "\n",
    "list7.remove('b') # remove는 실행할때 없는값 에러뜰 수 있으니 주의\n",
    "\n",
    "list7"
   ]
  },
  {
   "cell_type": "code",
   "execution_count": null,
   "id": "40ec3bbd",
   "metadata": {},
   "outputs": [],
   "source": []
  },
  {
   "cell_type": "code",
   "execution_count": null,
   "id": "c9398986",
   "metadata": {},
   "outputs": [],
   "source": [
    "list8 = [9, 77, 13, 51, 100, 3]\n",
    "list8\n",
    "list8.sort()\n",
    "list8"
   ]
  },
  {
   "cell_type": "code",
   "execution_count": null,
   "id": "9d4812f2",
   "metadata": {},
   "outputs": [],
   "source": [
    "list9 = [9, 77, 13, 51, 100, 3]\n",
    "\n",
    "list9.reverse()\n",
    "list9"
   ]
  },
  {
   "cell_type": "code",
   "execution_count": null,
   "id": "c11210d7",
   "metadata": {},
   "outputs": [],
   "source": [
    "list10 = [9, 77, 13, 51, 100, 3]\n",
    "list10.sort(reverse=True)\n",
    "list10"
   ]
  },
  {
   "cell_type": "code",
   "execution_count": null,
   "id": "cefc5e5a",
   "metadata": {},
   "outputs": [],
   "source": [
    "list11 = ['a', 'b', 'c', 'd', 'e', 'f']\n",
    "list11.index('c')\n"
   ]
  },
  {
   "cell_type": "code",
   "execution_count": null,
   "id": "f59acfb4",
   "metadata": {},
   "outputs": [],
   "source": [
    "list12 = ['a', 'b', 'c', 'd', 'e', 'f']\n",
    "list12.pop()"
   ]
  },
  {
   "cell_type": "code",
   "execution_count": null,
   "id": "c63c1438",
   "metadata": {},
   "outputs": [],
   "source": [
    "list12"
   ]
  },
  {
   "cell_type": "code",
   "execution_count": null,
   "id": "2b86f9fa",
   "metadata": {},
   "outputs": [],
   "source": [
    "list13 = [0, 1, 2]\n",
    "len(list13)"
   ]
  },
  {
   "cell_type": "code",
   "execution_count": null,
   "id": "97bc683d",
   "metadata": {},
   "outputs": [],
   "source": [
    "list14 = ['a', 'b', 'c', 'd', 'e', 'f']\n",
    "len(list14)"
   ]
  },
  {
   "cell_type": "markdown",
   "id": "68f0b4d4",
   "metadata": {},
   "source": [
    "## 튜플!"
   ]
  },
  {
   "cell_type": "code",
   "execution_count": null,
   "id": "27abceb9",
   "metadata": {},
   "outputs": [],
   "source": [
    "str1 = \"파이썬 최고\"\n",
    "\"파이썬\" in str1"
   ]
  },
  {
   "cell_type": "code",
   "execution_count": null,
   "id": "dea06eb4",
   "metadata": {},
   "outputs": [],
   "source": [
    "\"파이썬\" not in str1"
   ]
  },
  {
   "cell_type": "code",
   "execution_count": null,
   "id": "244fd644",
   "metadata": {},
   "outputs": [],
   "source": [
    "list1 = [77, 38, 10]\n",
    "\n",
    "33 in list1"
   ]
  },
  {
   "cell_type": "code",
   "execution_count": null,
   "id": "ede4b4ee",
   "metadata": {},
   "outputs": [],
   "source": [
    "list1 = [77, 38, 10]\n",
    "\n",
    "33 not in list1"
   ]
  },
  {
   "cell_type": "code",
   "execution_count": null,
   "id": "fe6a704b",
   "metadata": {},
   "outputs": [],
   "source": [
    "s = \"Hi,   My name is SeongWoo\"\n",
    "\n",
    "a = input(\"검색할 문자를 입력하세요 : \")\n",
    "b = s.count(a) # 개수가 몇개인지 세는 함수\n",
    "\n",
    "if a in s: # 문제에서 요구하는 문법을 잘 생각해봐야 한다.\n",
    "    print(f\"{a}는 {b}번 들어있네유!\")\n",
    "    \n",
    "else:\n",
    "    print(f\"{a}는 들어있지 않네유...\")"
   ]
  },
  {
   "cell_type": "code",
   "execution_count": null,
   "id": "64d9fb2b",
   "metadata": {},
   "outputs": [],
   "source": []
  },
  {
   "cell_type": "code",
   "execution_count": null,
   "id": "4c344398",
   "metadata": {},
   "outputs": [],
   "source": []
  }
 ],
 "metadata": {
  "kernelspec": {
   "display_name": "Python 3 (ipykernel)",
   "language": "python",
   "name": "python3"
  },
  "language_info": {
   "codemirror_mode": {
    "name": "ipython",
    "version": 3
   },
   "file_extension": ".py",
   "mimetype": "text/x-python",
   "name": "python",
   "nbconvert_exporter": "python",
   "pygments_lexer": "ipython3",
   "version": "3.9.12"
  },
  "toc": {
   "base_numbering": 1,
   "nav_menu": {},
   "number_sections": true,
   "sideBar": true,
   "skip_h1_title": false,
   "title_cell": "Table of Contents",
   "title_sidebar": "Contents",
   "toc_cell": false,
   "toc_position": {},
   "toc_section_display": true,
   "toc_window_display": false
  }
 },
 "nbformat": 4,
 "nbformat_minor": 5
}
