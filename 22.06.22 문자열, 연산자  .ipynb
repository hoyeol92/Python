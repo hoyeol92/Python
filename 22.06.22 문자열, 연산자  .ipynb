{
 "cells": [
  {
   "cell_type": "markdown",
   "id": "31a9094d",
   "metadata": {},
   "source": [
    "## 포매팅 공부하는 날"
   ]
  },
  {
   "cell_type": "markdown",
   "id": "cd4fbdcb",
   "metadata": {},
   "source": [
    "### 포매팅 1번 방법\n",
    "- 작은 소제목\n",
    " - 소소제목"
   ]
  },
  {
   "attachments": {
    "image.png": {
     "image/png": "[encoded data removed]"
    }
   },
   "cell_type": "markdown",
   "id": "8e15e022",
   "metadata": {},
   "source": [
    "![image.png](attachment:image.png)"
   ]
  },
  {
   "cell_type": "code",
   "execution_count": 1,
   "id": "789c86aa",
   "metadata": {},
   "outputs": [
    {
     "data": {
      "text/plain": [
       "'오늘은 7월 22일 입니다.'"
      ]
     },
     "execution_count": 1,
     "metadata": {},
     "output_type": "execute_result"
    }
   ],
   "source": [
    "day = 22\n",
    "s = \"오늘은 7월 %d일 입니다.\"%day\n",
    "s"
   ]
  },
  {
   "cell_type": "code",
   "execution_count": 2,
   "id": "86a873e6",
   "metadata": {},
   "outputs": [
    {
     "data": {
      "text/plain": [
       "'오늘은 6월 22일 입니다.'"
      ]
     },
     "execution_count": 2,
     "metadata": {},
     "output_type": "execute_result"
    }
   ],
   "source": [
    "month = 6\n",
    "day = 22\n",
    "s = \"오늘은 %d월 %d일 입니다.\"%(month, day)\n",
    "s"
   ]
  },
  {
   "cell_type": "markdown",
   "id": "affb8209",
   "metadata": {},
   "source": [
    "### 포매팅 2번 방법"
   ]
  },
  {
   "cell_type": "code",
   "execution_count": 3,
   "id": "fc6691d7",
   "metadata": {},
   "outputs": [
    {
     "data": {
      "text/plain": [
       "'오늘은 6월 22일 입니다.'"
      ]
     },
     "execution_count": 3,
     "metadata": {},
     "output_type": "execute_result"
    }
   ],
   "source": [
    "month = 6\n",
    "day = 22\n",
    "s = \"오늘은 {}월 {}일 입니다.\".format(month, day)\n",
    "s"
   ]
  },
  {
   "cell_type": "markdown",
   "id": "61667809",
   "metadata": {},
   "source": [
    "### 포매팅 3번 방법"
   ]
  },
  {
   "cell_type": "code",
   "execution_count": 4,
   "id": "030aa186",
   "metadata": {},
   "outputs": [
    {
     "data": {
      "text/plain": [
       "'오늘은 6월 22일 입니다.'"
      ]
     },
     "execution_count": 4,
     "metadata": {},
     "output_type": "execute_result"
    }
   ],
   "source": [
    "month = 6\n",
    "day = 22\n",
    "s = f\"오늘은 {month}월 {day}일 입니다.\"\n",
    "s"
   ]
  },
  {
   "cell_type": "code",
   "execution_count": null,
   "id": "f9832361",
   "metadata": {},
   "outputs": [],
   "source": []
  },
  {
   "cell_type": "markdown",
   "id": "4740e8fa",
   "metadata": {},
   "source": [
    "#### 포매팅활용예제"
   ]
  },
  {
   "cell_type": "code",
   "execution_count": 5,
   "id": "f0e6d3fb",
   "metadata": {},
   "outputs": [
    {
     "name": "stdout",
     "output_type": "stream",
     "text": [
      "'100'과 '200'의 합은 '300'입니다.\n"
     ]
    }
   ],
   "source": [
    "x = 100\n",
    "y = 200\n",
    "sum2 = x + y\n",
    "print(f\"'{x}'과 '{y}'의 합은 '{sum2}'입니다.\")"
   ]
  },
  {
   "cell_type": "code",
   "execution_count": null,
   "id": "424234cf",
   "metadata": {},
   "outputs": [],
   "source": []
  },
  {
   "cell_type": "markdown",
   "id": "9be2f6f1",
   "metadata": {},
   "source": [
    "### 자주 사용하는 문자열 함수"
   ]
  },
  {
   "cell_type": "code",
   "execution_count": 6,
   "id": "3443b136",
   "metadata": {},
   "outputs": [
    {
     "data": {
      "text/plain": [
       "'오늘 점심메뉴는 탕수육입니다. 저는 탕수육을 매우 좋아해서 탕수육만 먹을겁니다.'"
      ]
     },
     "execution_count": 6,
     "metadata": {},
     "output_type": "execute_result"
    }
   ],
   "source": [
    "# count 함수 : 문자열에 포함된 문자 개수 세기\n",
    "s = \"오늘 점심메뉴는 탕수육입니다. 저는 탕수육을 매우 좋아해서 탕수육만 먹을겁니다.\"\n",
    "s"
   ]
  },
  {
   "cell_type": "code",
   "execution_count": 7,
   "id": "aead5375",
   "metadata": {},
   "outputs": [
    {
     "data": {
      "text/plain": [
       "1"
      ]
     },
     "execution_count": 7,
     "metadata": {},
     "output_type": "execute_result"
    }
   ],
   "source": [
    "s.count('점심')"
   ]
  },
  {
   "cell_type": "code",
   "execution_count": 8,
   "id": "ccb84097",
   "metadata": {},
   "outputs": [
    {
     "data": {
      "text/plain": [
       "'  오늘 점심 메뉴는 탕수육 입니다.   '"
      ]
     },
     "execution_count": 8,
     "metadata": {},
     "output_type": "execute_result"
    }
   ],
   "source": [
    "# strip 함수 : 양쪽 공백 지우기\n",
    "s = \"  오늘 점심 메뉴는 탕수육 입니다.   \"\n",
    "s"
   ]
  },
  {
   "cell_type": "code",
   "execution_count": 9,
   "id": "308ad4af",
   "metadata": {},
   "outputs": [
    {
     "data": {
      "text/plain": [
       "'오늘 점심 메뉴는 탕수육 입니다.'"
      ]
     },
     "execution_count": 9,
     "metadata": {},
     "output_type": "execute_result"
    }
   ],
   "source": [
    "s.strip()"
   ]
  },
  {
   "cell_type": "code",
   "execution_count": 10,
   "id": "220d9702",
   "metadata": {},
   "outputs": [],
   "source": [
    "# replace 함수 : 특정 문자를 원하는 문자로 변경하기\n"
   ]
  },
  {
   "cell_type": "code",
   "execution_count": 10,
   "id": "91d848b0",
   "metadata": {},
   "outputs": [
    {
     "data": {
      "text/plain": [
       "'오늘 점심메뉴는 탕수육입니다. 저는 탕수육을 매우 좋아해서 탕수육만 먹을겁니다'"
      ]
     },
     "execution_count": 10,
     "metadata": {},
     "output_type": "execute_result"
    }
   ],
   "source": [
    "# count 함수 : 문자열에 포함된 문자 개수 세기\n",
    "s = \"오늘 점심메뉴는 탕수육입니다. 저는 탕수육을 매우 좋아해서 탕수육만 먹을겁니다\"\n",
    "s"
   ]
  },
  {
   "cell_type": "code",
   "execution_count": 11,
   "id": "29538a4c",
   "metadata": {},
   "outputs": [
    {
     "data": {
      "text/plain": [
       "'오늘 점심메뉴는 채끝등심입니다. 저는 채끝등심을 매우 좋아해서 채끝등심만 먹을겁니다'"
      ]
     },
     "execution_count": 11,
     "metadata": {},
     "output_type": "execute_result"
    }
   ],
   "source": [
    "s.replace(\"탕수육\",\"채끝등심\")"
   ]
  },
  {
   "cell_type": "code",
   "execution_count": 13,
   "id": "0414dc99",
   "metadata": {},
   "outputs": [
    {
     "data": {
      "text/plain": [
       "['오늘', '점심메뉴는', '탕수육입니다.', '저는', '탕수육을', '매우', '좋아해서', '탕수육만', '먹을겁니다']"
      ]
     },
     "execution_count": 13,
     "metadata": {},
     "output_type": "execute_result"
    }
   ],
   "source": [
    "# split 함수 : 문자열을 특정 문자 기준으로 나눠주기\n",
    "s.split(\" \")"
   ]
  },
  {
   "cell_type": "markdown",
   "id": "139988e4",
   "metadata": {},
   "source": [
    "# 22.6.22 "
   ]
  },
  {
   "cell_type": "markdown",
   "id": "7fb7e7c7",
   "metadata": {},
   "source": [
    "## 연산자"
   ]
  },
  {
   "cell_type": "code",
   "execution_count": 14,
   "id": "2cd27bfe",
   "metadata": {},
   "outputs": [
    {
     "name": "stdout",
     "output_type": "stream",
     "text": [
      "1.4285714285714286\n",
      "3\n",
      "1\n"
     ]
    }
   ],
   "source": [
    "num1 = 10\n",
    "num2 = 7\n",
    "print(num1/num2) # 나누기\n",
    "print(num1%num2) # 나머지\n",
    "print(num1//num2) # 몫\n"
   ]
  },
  {
   "cell_type": "code",
   "execution_count": 15,
   "id": "f9d3b108",
   "metadata": {},
   "outputs": [
    {
     "name": "stdout",
     "output_type": "stream",
     "text": [
      "안녕하세요\n"
     ]
    }
   ],
   "source": [
    "# 문자열도 산술할 수 있다.\n",
    "\n",
    "str1 = \"안녕\"\n",
    "str2 = \"하세요\"\n",
    "print(str1 + str2)"
   ]
  },
  {
   "cell_type": "code",
   "execution_count": 16,
   "id": "f3a1abd7",
   "metadata": {},
   "outputs": [
    {
     "name": "stdout",
     "output_type": "stream",
     "text": [
      "107\n"
     ]
    }
   ],
   "source": [
    "str1 = \"10\"\n",
    "str2 = \"7\"\n",
    "print(str1 + str2) # 문자열이기 때문에 107로 결과가 나옴"
   ]
  },
  {
   "cell_type": "code",
   "execution_count": 17,
   "id": "c9f4ac0a",
   "metadata": {},
   "outputs": [
    {
     "ename": "TypeError",
     "evalue": "unsupported operand type(s) for +: 'int' and 'str'",
     "output_type": "error",
     "traceback": [
      "\u001b[1;31m---------------------------------------------------------------------------\u001b[0m",
      "\u001b[1;31mTypeError\u001b[0m                                 Traceback (most recent call last)",
      "Input \u001b[1;32mIn [17]\u001b[0m, in \u001b[0;36m<cell line: 3>\u001b[1;34m()\u001b[0m\n\u001b[0;32m      1\u001b[0m num1 \u001b[38;5;241m=\u001b[39m \u001b[38;5;241m10\u001b[39m\n\u001b[0;32m      2\u001b[0m str2 \u001b[38;5;241m=\u001b[39m \u001b[38;5;124m\"\u001b[39m\u001b[38;5;124m7\u001b[39m\u001b[38;5;124m\"\u001b[39m\n\u001b[1;32m----> 3\u001b[0m \u001b[38;5;28mprint\u001b[39m(\u001b[43mnum1\u001b[49m\u001b[43m \u001b[49m\u001b[38;5;241;43m+\u001b[39;49m\u001b[43m \u001b[49m\u001b[43mstr2\u001b[49m)\n",
      "\u001b[1;31mTypeError\u001b[0m: unsupported operand type(s) for +: 'int' and 'str'"
     ]
    }
   ],
   "source": [
    "num1 = 10\n",
    "str2 = \"7\"\n",
    "print(num1 + str2) # 숫자와 문자는 산술할수없어 에러뜸"
   ]
  },
  {
   "cell_type": "code",
   "execution_count": null,
   "id": "a8c45be8",
   "metadata": {},
   "outputs": [],
   "source": [
    "num1 = 10\n",
    "str2 = \"7\"\n",
    "print(str(num1) + str2)\n",
    "print(num1 + int(str2))\n"
   ]
  },
  {
   "cell_type": "code",
   "execution_count": null,
   "id": "42a88c39",
   "metadata": {},
   "outputs": [],
   "source": [
    "num1 = 23\n",
    "num2 = 3\n",
    "print(\"더하기 결과 :\", num1 + num2)\n",
    "print(\"빼기 결과 :\", num1 - num2)\n",
    "print(\"곱하기 결과 :\", num1 * num2)\n",
    "print(\"나누기 결과 :\", num1 / num2)"
   ]
  },
  {
   "cell_type": "markdown",
   "id": "b69283f4",
   "metadata": {},
   "source": [
    "### input"
   ]
  },
  {
   "cell_type": "code",
   "execution_count": null,
   "id": "a5a1440e",
   "metadata": {},
   "outputs": [],
   "source": [
    "num = int(input(\"정수를 입력하세요 >>\"))"
   ]
  },
  {
   "cell_type": "code",
   "execution_count": null,
   "id": "8868ed25",
   "metadata": {},
   "outputs": [],
   "source": [
    "num"
   ]
  },
  {
   "cell_type": "code",
   "execution_count": null,
   "id": "7bf8982b",
   "metadata": {},
   "outputs": [],
   "source": [
    "num = int(input('안내문자')) # '안내문자'는 없어도 됨, 실행입력해야완료됨"
   ]
  },
  {
   "cell_type": "code",
   "execution_count": null,
   "id": "590687d2",
   "metadata": {},
   "outputs": [],
   "source": []
  },
  {
   "cell_type": "code",
   "execution_count": 14,
   "id": "499bab0a",
   "metadata": {},
   "outputs": [
    {
     "name": "stdout",
     "output_type": "stream",
     "text": [
      "정수를 입력하세요 >> 5\n",
      "정수를 입력하세요 >> 5\n",
      "더하기 결과 : 10\n",
      "빼기 결과 : 0\n",
      "곱하기 결과 : 25\n",
      "나누기 결과 : 1.0\n"
     ]
    }
   ],
   "source": [
    "num1 = int(input(\"정수를 입력하세요 >> \"))\n",
    "num2 = int(input(\"정수를 입력하세요 >> \"))\n",
    "print(\"더하기 결과 :\", num1+num2)\n",
    "print(\"빼기 결과 :\", num1-num2)\n",
    "print(\"곱하기 결과 :\", num1*num2)\n",
    "print(\"나누기 결과 :\", num1/num2)"
   ]
  },
  {
   "cell_type": "code",
   "execution_count": null,
   "id": "32556f4b",
   "metadata": {},
   "outputs": [],
   "source": []
  },
  {
   "cell_type": "code",
   "execution_count": 15,
   "id": "ee48bfaf",
   "metadata": {},
   "outputs": [
    {
     "name": "stdout",
     "output_type": "stream",
     "text": [
      "python 점수 입력 >> 80\n",
      "머신러닝 점수 입력 >> 50\n",
      "딥러닝 점수 입력 >> 60\n",
      "합계 : 190\n",
      "평균 : 63.333333333333336\n"
     ]
    }
   ],
   "source": [
    "a = int(input(\"python 점수 입력 >> \"))\n",
    "b = int(input(\"머신러닝 점수 입력 >> \"))\n",
    "c = int(input(\"딥러닝 점수 입력 >> \"))\n",
    "print(\"합계 : {}\".format(a+b+c))\n",
    "print(\"평균 : {}\".format((a+b+c)/3))"
   ]
  },
  {
   "cell_type": "code",
   "execution_count": 28,
   "id": "db9e8c92",
   "metadata": {},
   "outputs": [
    {
     "name": "stdout",
     "output_type": "stream",
     "text": [
      "python 점수 입력 >> 100\n",
      "머신러닝 점수 입력 >> 80\n",
      "딥러닝 점수 입력 >> 60\n",
      "합계 : 240 점\n",
      "평균 : 80 점\n"
     ]
    }
   ],
   "source": [
    "a = int(input(\"python 점수 입력 >> \"))\n",
    "b = int(input(\"머신러닝 점수 입력 >> \"))\n",
    "c = int(input(\"딥러닝 점수 입력 >> \"))\n",
    "\n",
    "total = a+b+c\n",
    "\n",
    "print(\"합계 : {}\".format(total),\"점\")\n",
    "print(\"평균 : {}\".format(int((total)/3)),\"점\")"
   ]
  },
  {
   "cell_type": "code",
   "execution_count": 16,
   "id": "1ddf1748",
   "metadata": {},
   "outputs": [
    {
     "name": "stdout",
     "output_type": "stream",
     "text": [
      "시간 입력 >> 8784\n",
      "2시간 26분 24초\n"
     ]
    }
   ],
   "source": [
    "time = int(input(\"시간 입력 >> \"))\n",
    "hour = time // 3600\n",
    "minute = (time % 3600) // 60\n",
    "second = (time % 3600) % 60 # 60으로만 나눠도 결과는 같은 값이 나온다.\n",
    "print(\"{}시간 {}분 {}초\".format(hour, minute, second))"
   ]
  },
  {
   "cell_type": "code",
   "execution_count": 56,
   "id": "9d88ac4f",
   "metadata": {},
   "outputs": [
    {
     "name": "stdout",
     "output_type": "stream",
     "text": [
      "xxxxxxxxxx\n"
     ]
    }
   ],
   "source": [
    "s = \"x\"\n",
    "print((s*10))"
   ]
  },
  {
   "cell_type": "code",
   "execution_count": 55,
   "id": "f508aa67",
   "metadata": {},
   "outputs": [],
   "source": [
    "# s = \"안녕하세요\"\n",
    "# print(s * 2)"
   ]
  },
  {
   "cell_type": "code",
   "execution_count": 60,
   "id": "71395d98",
   "metadata": {},
   "outputs": [
    {
     "name": "stdout",
     "output_type": "stream",
     "text": [
      "xxxxxxxxxx 연산하기 xxxxxxxxxx\n",
      "정수입력 >> 10\n",
      "정수입력 >> 20\n",
      "+연산자 입력 >> +\n",
      "10 + 20 = 30\n"
     ]
    }
   ],
   "source": [
    "print(s*10, \"연산하기\", s*10)\n",
    "num1 = int(input(\"정수입력 >> \"))\n",
    "num2 = int(input(\"정수입력 >> \"))\n",
    "cal = input(\"+연산자 입력 >> \")\n",
    "print(\"{} {} {}\".format(num1,cal,num2),\"=\", num1+num2)"
   ]
  },
  {
   "cell_type": "code",
   "execution_count": 61,
   "id": "edf84551",
   "metadata": {},
   "outputs": [
    {
     "name": "stdout",
     "output_type": "stream",
     "text": [
      "********** 연산하기 **********\n",
      "정수입력 >> 10\n",
      "정수입력 >> 20\n",
      "+연산자 입력 >> +\n",
      "10 + 20 = 30\n"
     ]
    }
   ],
   "source": [
    "print(\"*\"*10, \"연산하기\", \"*\"*10)\n",
    "num1 = int(input(\"정수입력 >> \"))\n",
    "num2 = int(input(\"정수입력 >> \"))\n",
    "cal = input(\"+연산자 입력 >> \")\n",
    "print(\"{} {} {} = {}\".format(num1,cal,num2,num1+num2))"
   ]
  },
  {
   "cell_type": "markdown",
   "id": "42e51980",
   "metadata": {},
   "source": [
    "### 지수연산자"
   ]
  },
  {
   "cell_type": "code",
   "execution_count": 62,
   "id": "44b8ba05",
   "metadata": {},
   "outputs": [
    {
     "name": "stdout",
     "output_type": "stream",
     "text": [
      "정수 입력 >> 2\n",
      "지수 입력 >> 3\n",
      "2의 3승은 8입니다.\n"
     ]
    }
   ],
   "source": [
    "num = int(input(\"정수 입력 >> \"))\n",
    "power = int(input(\"지수 입력 >> \"))\n",
    "print(f\"{num}의 {power}승은 {num**power}입니다.\")"
   ]
  },
  {
   "cell_type": "code",
   "execution_count": null,
   "id": "95f9b0d0",
   "metadata": {},
   "outputs": [],
   "source": []
  },
  {
   "cell_type": "markdown",
   "id": "b90054ce",
   "metadata": {},
   "source": [
    "### 대입연산자, 복합대입연산자"
   ]
  },
  {
   "cell_type": "code",
   "execution_count": 63,
   "id": "cc5e3042",
   "metadata": {},
   "outputs": [
    {
     "data": {
      "text/plain": [
       "30"
      ]
     },
     "execution_count": 63,
     "metadata": {},
     "output_type": "execute_result"
    }
   ],
   "source": [
    "num = 27\n",
    "\n",
    "num += 3 # num = num + 3와 같다.\n",
    "num"
   ]
  },
  {
   "cell_type": "markdown",
   "id": "5afb4db3",
   "metadata": {},
   "source": [
    "### 비교연산자\n"
   ]
  },
  {
   "cell_type": "code",
   "execution_count": 64,
   "id": "f7e1584a",
   "metadata": {},
   "outputs": [
    {
     "name": "stdout",
     "output_type": "stream",
     "text": [
      "False\n",
      "True\n",
      "False\n",
      "True\n"
     ]
    }
   ],
   "source": [
    "a = 3\n",
    "b = 7\n",
    "print(a > b)\n",
    "print(a <= b)\n",
    "print(a == b)\n",
    "print(a != b)"
   ]
  },
  {
   "cell_type": "code",
   "execution_count": 74,
   "id": "3a398629",
   "metadata": {},
   "outputs": [
    {
     "name": "stdout",
     "output_type": "stream",
     "text": [
      "a:10, b:5\n",
      "True\n",
      "False\n",
      "False\n",
      "True\n"
     ]
    }
   ],
   "source": [
    "import random\n",
    "a = random.randint(1,10)\n",
    "b = random.randint(1,10)\n",
    "print(\"a:{}, b:{}\".format(a,b))\n",
    "\n",
    "print(a > b)\n",
    "print(a <= b)\n",
    "print(a == b)\n",
    "print(a != b)"
   ]
  },
  {
   "cell_type": "code",
   "execution_count": 73,
   "id": "68f43280",
   "metadata": {},
   "outputs": [
    {
     "data": {
      "text/plain": [
       "6"
      ]
     },
     "execution_count": 73,
     "metadata": {},
     "output_type": "execute_result"
    }
   ],
   "source": [
    "random.randint(1,10)"
   ]
  },
  {
   "cell_type": "code",
   "execution_count": 76,
   "id": "580324e9",
   "metadata": {},
   "outputs": [
    {
     "data": {
      "text/plain": [
       "True"
      ]
     },
     "execution_count": 76,
     "metadata": {},
     "output_type": "execute_result"
    }
   ],
   "source": [
    "a = 3\n",
    "b = 7\n",
    "\n",
    "not a == b"
   ]
  },
  {
   "cell_type": "code",
   "execution_count": 77,
   "id": "b7319a75",
   "metadata": {},
   "outputs": [
    {
     "data": {
      "text/plain": [
       "False"
      ]
     },
     "execution_count": 77,
     "metadata": {},
     "output_type": "execute_result"
    }
   ],
   "source": [
    "3 > 5 and 10 == 20"
   ]
  },
  {
   "cell_type": "code",
   "execution_count": 78,
   "id": "4fbdbff4",
   "metadata": {},
   "outputs": [
    {
     "data": {
      "text/plain": [
       "False"
      ]
     },
     "execution_count": 78,
     "metadata": {},
     "output_type": "execute_result"
    }
   ],
   "source": [
    "3 > 5 and 10 < 20"
   ]
  },
  {
   "cell_type": "code",
   "execution_count": 80,
   "id": "3d03a4c8",
   "metadata": {},
   "outputs": [
    {
     "data": {
      "text/plain": [
       "True"
      ]
     },
     "execution_count": 80,
     "metadata": {},
     "output_type": "execute_result"
    }
   ],
   "source": [
    "3 < 5 and 10 < 20"
   ]
  },
  {
   "cell_type": "code",
   "execution_count": 81,
   "id": "305d8d3c",
   "metadata": {},
   "outputs": [
    {
     "data": {
      "text/plain": [
       "False"
      ]
     },
     "execution_count": 81,
     "metadata": {},
     "output_type": "execute_result"
    }
   ],
   "source": [
    "3 > 5 or 10 == 20"
   ]
  },
  {
   "cell_type": "code",
   "execution_count": 82,
   "id": "892e7e89",
   "metadata": {},
   "outputs": [
    {
     "data": {
      "text/plain": [
       "True"
      ]
     },
     "execution_count": 82,
     "metadata": {},
     "output_type": "execute_result"
    }
   ],
   "source": [
    "3 > 5 or 10 < 20"
   ]
  },
  {
   "cell_type": "code",
   "execution_count": 83,
   "id": "980bd842",
   "metadata": {},
   "outputs": [
    {
     "data": {
      "text/plain": [
       "True"
      ]
     },
     "execution_count": 83,
     "metadata": {},
     "output_type": "execute_result"
    }
   ],
   "source": [
    "3 < 5 or 10 < 20"
   ]
  },
  {
   "cell_type": "code",
   "execution_count": 86,
   "id": "6e0d0413",
   "metadata": {},
   "outputs": [
    {
     "data": {
      "text/plain": [
       "'합격'"
      ]
     },
     "execution_count": 86,
     "metadata": {},
     "output_type": "execute_result"
    }
   ],
   "source": [
    "score = 80\n",
    "\"합격\" if score >= 60 else \"불합격\""
   ]
  },
  {
   "cell_type": "code",
   "execution_count": 87,
   "id": "19248f5e",
   "metadata": {},
   "outputs": [
    {
     "data": {
      "text/plain": [
       "'불합격'"
      ]
     },
     "execution_count": 87,
     "metadata": {},
     "output_type": "execute_result"
    }
   ],
   "source": [
    "score = 50\n",
    "\"합격\" if score >= 60 else \"불합격\""
   ]
  },
  {
   "cell_type": "code",
   "execution_count": 88,
   "id": "4f4d9999",
   "metadata": {},
   "outputs": [
    {
     "name": "stdout",
     "output_type": "stream",
     "text": [
      "정수입력 >> 3\n",
      "정수입력 >> 10\n",
      "b: 10\n"
     ]
    }
   ],
   "source": [
    "a = int(input(\"정수입력 >> \"))\n",
    "b = int(input(\"정수입력 >> \"))\n",
    "\n",
    "print(\"a:\",a) if a > b else print(\"b:\",b)  "
   ]
  },
  {
   "cell_type": "code",
   "execution_count": 91,
   "id": "5a51f603",
   "metadata": {},
   "outputs": [
    {
     "name": "stdout",
     "output_type": "stream",
     "text": [
      "첫 번째 정수 입력 >> 33\n",
      "두 번째 정수 입력 >> 58\n",
      "두 수의 차: 25\n"
     ]
    }
   ],
   "source": [
    "num1 = int(input(\"첫 번째 정수 입력 >> \"))\n",
    "num2 = int(input(\"두 번째 정수 입력 >> \"))\n",
    "\n",
    "print(\"두 수의 차:\", num1-num2) if num1 > num2 else print(\"두 수의 차:\", num2-num1)"
   ]
  },
  {
   "cell_type": "code",
   "execution_count": 95,
   "id": "b159556c",
   "metadata": {},
   "outputs": [
    {
     "name": "stdout",
     "output_type": "stream",
     "text": [
      "정수 입력 >> 8\n",
      "8 는(은) 짝수 입니다.\n",
      "8는(은) 짝수 입니다.\n"
     ]
    }
   ],
   "source": [
    "num3 = int(input(\"정수 입력 >> \"))\n",
    "print(num3,\"는(은) 짝수 입니다.\") if num3 % 2 == 0 else print(num3,\"는(은) 홀수 입니다.\")\n",
    "print(f\"{num3}는(은) 짝수 입니다.\") if num3 % 2 == 0 else print(f\"{num3}는(은) 홀수 입니다.\")"
   ]
  },
  {
   "cell_type": "code",
   "execution_count": null,
   "id": "4f2e3ec9",
   "metadata": {},
   "outputs": [],
   "source": []
  }
 ],
 "metadata": {
  "kernelspec": {
   "display_name": "Python 3 (ipykernel)",
   "language": "python",
   "name": "python3"
  },
  "language_info": {
   "codemirror_mode": {
    "name": "ipython",
    "version": 3
   },
   "file_extension": ".py",
   "mimetype": "text/x-python",
   "name": "python",
   "nbconvert_exporter": "python",
   "pygments_lexer": "ipython3",
   "version": "3.9.12"
  },
  "toc": {
   "base_numbering": 1,
   "nav_menu": {},
   "number_sections": true,
   "sideBar": true,
   "skip_h1_title": false,
   "title_cell": "Table of Contents",
   "title_sidebar": "Contents",
   "toc_cell": false,
   "toc_position": {},
   "toc_section_display": true,
   "toc_window_display": false
  }
 },
 "nbformat": 4,
 "nbformat_minor": 5
}
