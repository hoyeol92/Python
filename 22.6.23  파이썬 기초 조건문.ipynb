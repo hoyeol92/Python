{
 "cells": [
  {
   "cell_type": "markdown",
   "id": "9ebb73f6",
   "metadata": {},
   "source": [
    "# 조건문"
   ]
  },
  {
   "cell_type": "code",
   "execution_count": null,
   "id": "816531a6",
   "metadata": {},
   "outputs": [],
   "source": []
  },
  {
   "cell_type": "code",
   "execution_count": 3,
   "id": "3a77a247",
   "metadata": {},
   "outputs": [
    {
     "name": "stdout",
     "output_type": "stream",
     "text": [
      "실행문장 실행\n"
     ]
    }
   ],
   "source": [
    "if True:\n",
    "    print(\"실행문장 실행\")\n"
   ]
  },
  {
   "cell_type": "code",
   "execution_count": 2,
   "id": "b5c2cc72",
   "metadata": {},
   "outputs": [],
   "source": [
    "if False: # 실행문장이 실행되지 않고 바로 빠져나간다.\n",
    "    print(\"실행문장 실행\")"
   ]
  },
  {
   "cell_type": "code",
   "execution_count": 5,
   "id": "acea9d52",
   "metadata": {},
   "outputs": [
    {
     "name": "stdout",
     "output_type": "stream",
     "text": [
      "실행문장 실행\n",
      "if문 밖에 있는 실행문장\n"
     ]
    }
   ],
   "source": [
    "if True:\n",
    "    print(\"실행문장 실행\") # 여기까지가 조건문의 범위\n",
    "print(\"if문 밖에 있는 실행문장\")"
   ]
  },
  {
   "cell_type": "code",
   "execution_count": 4,
   "id": "e4ee1fb3",
   "metadata": {},
   "outputs": [
    {
     "name": "stdout",
     "output_type": "stream",
     "text": [
      "if문 밖에 있는 실행문장\n"
     ]
    }
   ],
   "source": [
    "if False: # 사실상 없는 코드\n",
    "    print(\"실행문장 실행\")\n",
    "print(\"if문 밖에 있는 실행문장\")"
   ]
  },
  {
   "cell_type": "code",
   "execution_count": null,
   "id": "0d371540",
   "metadata": {},
   "outputs": [],
   "source": []
  },
  {
   "cell_type": "code",
   "execution_count": 10,
   "id": "7c138c9c",
   "metadata": {},
   "outputs": [
    {
     "name": "stdout",
     "output_type": "stream",
     "text": [
      "택시를 탄다.\n"
     ]
    }
   ],
   "source": [
    "money = 11000\n",
    "\n",
    "if money >= 10000:\n",
    "    print(\"택시를 탄다.\")\n",
    "    "
   ]
  },
  {
   "cell_type": "code",
   "execution_count": 3,
   "id": "a723d85a",
   "metadata": {},
   "outputs": [
    {
     "name": "stdout",
     "output_type": "stream",
     "text": [
      "돈을 넣어주세요! >> 500\n",
      "돈을 더 넣어주세요\n"
     ]
    }
   ],
   "source": [
    "money = int(input(\"돈을 넣어주세요! >> \"))\n",
    "\n",
    "if money >= 600 :\n",
    "    print(\"감사합니다.\")\n",
    "else :\n",
    "    print(\"돈을 더 넣어주세요\")"
   ]
  },
  {
   "cell_type": "code",
   "execution_count": 17,
   "id": "db8960f2",
   "metadata": {},
   "outputs": [
    {
     "name": "stdout",
     "output_type": "stream",
     "text": [
      "버스를 탄다.\n"
     ]
    }
   ],
   "source": [
    "money = 9000\n",
    "\n",
    "if money >= 10000:\n",
    "    print(\"택시를 탄다.\")\n",
    "else:\n",
    "    print(\"버스를 탄다.\")"
   ]
  },
  {
   "cell_type": "code",
   "execution_count": 24,
   "id": "d864ef0a",
   "metadata": {},
   "outputs": [
    {
     "name": "stdout",
     "output_type": "stream",
     "text": [
      "택시를 탄다.\n"
     ]
    }
   ],
   "source": [
    "# 삼항연산자로 표현가능\n",
    "money = 19000\n",
    "\n",
    "print(\"택시를 탄다.\") if money >= 10000 else print(\"버스를 탄다.\")"
   ]
  },
  {
   "cell_type": "code",
   "execution_count": null,
   "id": "7e333395",
   "metadata": {},
   "outputs": [],
   "source": []
  },
  {
   "cell_type": "code",
   "execution_count": 32,
   "id": "9f017cf3",
   "metadata": {},
   "outputs": [
    {
     "name": "stdout",
     "output_type": "stream",
     "text": [
      "정수 입력 >> 45\n",
      "3과 5의 배수입니다.\n"
     ]
    }
   ],
   "source": [
    "num = int(input(\"정수 입력 >> \"))\n",
    "\n",
    "if num % 3 == 0 and num % 5 == 0: # 조건식을 찾는게 핵심\n",
    "    print(\"3과 5의 배수입니다.\")\n",
    "else:\n",
    "    print(\"3과 5의 배수가 아닙니다.\")"
   ]
  },
  {
   "cell_type": "code",
   "execution_count": null,
   "id": "f7b8c0de",
   "metadata": {},
   "outputs": [],
   "source": []
  },
  {
   "cell_type": "code",
   "execution_count": 47,
   "id": "1285962a",
   "metadata": {},
   "outputs": [
    {
     "name": "stdout",
     "output_type": "stream",
     "text": [
      "주민등록번호 뒷자리 입력 >> 4555620\n",
      "당신은 여자입니다. ^^*\n"
     ]
    }
   ],
   "source": [
    "# 첫번째 방법 문자로 받기\n",
    "num1 = input(\"주민등록번호 뒷자리 입력 >> \")\n",
    "\n",
    "if num1[0] == '1' or num1[0] == '3':\n",
    "    print(\"당신은 남자입니다. ^^7\")\n",
    "else :\n",
    "    print(\"당신은 여자입니다. ^^*\")"
   ]
  },
  {
   "cell_type": "code",
   "execution_count": 49,
   "id": "8fcaa826",
   "metadata": {},
   "outputs": [
    {
     "name": "stdout",
     "output_type": "stream",
     "text": [
      "주민등록번호 뒷자리 입력 >> 2022550\n",
      "당신은 여자입니다. ^^*\n"
     ]
    }
   ],
   "source": [
    "# 두번째 방법 숫자로 받기\n",
    "num1 = int(input(\"주민등록번호 뒷자리 입력 >> \"))\n",
    "\n",
    "if num1 // 1000000 == 1 or num1 // 1000000 == 3:\n",
    "    print(\"당신은 남자입니다. ^^7\")\n",
    "else : # 크기가 정해져있는 숫자(자릿수)라서 나누어서 몫으로 구분할 수 있다.\n",
    "    print(\"당신은 여자입니다. ^^*\")    "
   ]
  },
  {
   "cell_type": "code",
   "execution_count": null,
   "id": "2e5cf5a6",
   "metadata": {},
   "outputs": [],
   "source": []
  },
  {
   "cell_type": "code",
   "execution_count": 62,
   "id": "782c9e08",
   "metadata": {},
   "outputs": [
    {
     "name": "stdout",
     "output_type": "stream",
     "text": [
      "이름 입력 >> 성우\n",
      "나이 입력 >> 20\n",
      "카드 소지 여부(소지, 미소지) >> 미소지\n",
      "성우님은 입장료 35000원에 예약되셨습니다.\n"
     ]
    }
   ],
   "source": [
    "# 정답풀이\n",
    "name = input(\"이름 입력 >> \")\n",
    "age = int(input(\"나이 입력 >> \"))\n",
    "card = input(\"카드 소지 여부(소지, 미소지) >> \")\n",
    "\n",
    "fee = 35000\n",
    "\n",
    "# 미성년일경우\n",
    "\n",
    "if age < 19 :\n",
    "    fee *= 0.5 # fee = fee * 0.5\n",
    "    if card == \"소지\" :\n",
    "        fee *= 0.9 # 미성년 할인율 10%\n",
    "# 성인일 경우\n",
    "else:        \n",
    "    fee = fee\n",
    "    if card == \"소지\":\n",
    "        fee *= 0.7\n",
    "        \n",
    "print(f\"{name}님은 입장료 {int(fee)}원에 예약되셨습니다.\")        "
   ]
  },
  {
   "cell_type": "code",
   "execution_count": null,
   "id": "a2736b31",
   "metadata": {},
   "outputs": [],
   "source": []
  },
  {
   "cell_type": "code",
   "execution_count": 76,
   "id": "f86c4d38",
   "metadata": {},
   "outputs": [
    {
     "name": "stdout",
     "output_type": "stream",
     "text": [
      "마스크 개수 입력 >> 17\n",
      "5개들이 포장지 개수 : 2\n"
     ]
    }
   ],
   "source": [
    "# 마스크 포장실습\n",
    "\n",
    "countOfMask = int(input(\"마스크 개수 입력 >> \"))\n",
    "\n",
    "\n",
    "if countOfMask % 8 == 0 :\n",
    "    print(f\"8개들이 포장지 개수 : {countOfMask // 8}\")\n",
    "    print(f\"5개들이 포장지 개수 : {countOfMask % 8}\")\n",
    "        \n",
    "else :\n",
    "    if countOfMask % 5 == 0:\n",
    "        print(f\"5개들이 포장지 개수 : {countOfMask // 5}\")\n",
    "    else :\n",
    "        print(f\"5개들이 포장지 개수 : {countOfMask % 5}\")"
   ]
  },
  {
   "cell_type": "code",
   "execution_count": 4,
   "id": "9a4db846",
   "metadata": {},
   "outputs": [
    {
     "name": "stdout",
     "output_type": "stream",
     "text": [
      "마스크 개수 입력 >> 16\n",
      "8개들이 포장지 개수 : 2\n",
      "5개들이 포장지 개수 : 0\n"
     ]
    }
   ],
   "source": [
    "# 마스크 포장실습 정답\n",
    "# 변수를 어떻게 사용했는지 꼭! 복습해보자\n",
    "\n",
    "countOfMask = int(input(\"마스크 개수 입력 >> \"))\n",
    "\n",
    "# 8개들이 포장지개수\n",
    "eightBox = countOfMask // 8\n",
    "\n",
    "# 8개들이 포장 후에 5개들이 포장지로 포장한 다음 남은 마스크가 1개라도 있다면\n",
    "if ((countOfMask % 8) % 5) > 0 : # 나머지가 존재한다면 5개들이 포장지로 포장을 해줘야한다.\n",
    "    fiveBox = ((countOfMask % 8) // 5) + 1 # 몫에다가 +1을 해준다! 나머지 5이하의 나머지를 담기위해!\n",
    "# 8개들이, 5개들이로 포장한 후 남은 마스크가 하나도 없을 경우    \n",
    "else :\n",
    "    fiveBox = ((countOfMask % 8) // 5)\n",
    "\n",
    "print(f\"8개들이 포장지 개수 : {eightBox}\")     \n",
    "print(f\"5개들이 포장지 개수 : {fiveBox}\")    "
   ]
  },
  {
   "cell_type": "code",
   "execution_count": null,
   "id": "798e847f",
   "metadata": {},
   "outputs": [],
   "source": []
  },
  {
   "cell_type": "code",
   "execution_count": 86,
   "id": "ef2f5c0b",
   "metadata": {},
   "outputs": [
    {
     "name": "stdout",
     "output_type": "stream",
     "text": [
      "첫 번째 정수 입력 >> 8\n",
      "두 번째 정수 입력 >> 8\n",
      "두 수가 똑같습니다.\n"
     ]
    }
   ],
   "source": [
    "# elif 실습문제\n",
    "\n",
    "num1 = int(input(\"첫 번째 정수 입력 >> \"))\n",
    "num2 = int(input(\"두 번째 정수 입력 >> \"))\n",
    "\n",
    "if num1 > num2 :\n",
    "    print(\"첫 번째 정수가 더 큽니다.\")\n",
    "elif num1 < num2:\n",
    "    print(\"두 번째 정수가 더 큽니다.\")\n",
    "else : # 위의 조건이 모두 아닌경운 같은경우밖에없다.\n",
    "    print(\"두 수가 똑같습니다.\")"
   ]
  },
  {
   "cell_type": "code",
   "execution_count": 93,
   "id": "93ae5948",
   "metadata": {},
   "outputs": [
    {
     "name": "stdout",
     "output_type": "stream",
     "text": [
      "점수 입력 >> 900\n",
      "900점은 A학점 입니다.\n"
     ]
    }
   ],
   "source": [
    "# 학점계산기 실습문제\n",
    "\n",
    "score = int(input(\"점수 입력 >> \"))\n",
    "\n",
    "if 90 <= score:\n",
    "    print(f\"{score}점은 A학점 입니다.\")\n",
    "elif 80 <= score < 90:\n",
    "    print(f\"{score}점은 B학점 입니다.\")\n",
    "elif 70 <= score < 80:\n",
    "    print(f\"{score}점은 C학점 입니다.\")\n",
    "elif 60 <= score < 70:\n",
    "    print(f\"{score}점은 D학점 입니다.\")\n",
    "elif score < 60:\n",
    "    print(f\"{score}점은 F학점 입니다.\")"
   ]
  },
  {
   "cell_type": "code",
   "execution_count": 94,
   "id": "4a744051",
   "metadata": {},
   "outputs": [
    {
     "name": "stdout",
     "output_type": "stream",
     "text": [
      "점수 입력 >> 40\n",
      "40점은 F학점 입니다.\n"
     ]
    }
   ],
   "source": [
    "# 학점계산기 실습문제 효율적인 코드정리\n",
    "\n",
    "score = int(input(\"점수 입력 >> \"))\n",
    "\n",
    "if 90 <= score:\n",
    "    grade = 'A'\n",
    "elif score >= 80:\n",
    "    grade = 'B'\n",
    "elif score >= 70:\n",
    "    grade = 'C'\n",
    "elif score >= 60:\n",
    "    grade = 'D'\n",
    "else:\n",
    "    grade = 'F'\n",
    "\n",
    "print(f\"{score}점은 {grade}학점 입니다.\")    "
   ]
  },
  {
   "cell_type": "code",
   "execution_count": null,
   "id": "e469f257",
   "metadata": {},
   "outputs": [],
   "source": []
  },
  {
   "cell_type": "code",
   "execution_count": 104,
   "id": "8cb8dfde",
   "metadata": {},
   "outputs": [
    {
     "name": "stdout",
     "output_type": "stream",
     "text": [
      "x값을 입력하세요 : -4\n",
      "y값을 입력하세요 : -1\n",
      "좌표(-4,-1)는 3사분면 입니다.\n"
     ]
    }
   ],
   "source": [
    "# 사분면 출력 문제\n",
    "\n",
    "x = int(input(\"x값을 입력하세요 : \"))\n",
    "y = int(input(\"y값을 입력하세요 : \"))\n",
    "\n",
    "if x > 0 and y > 0: # 1사분면 조건\n",
    "    print(f\"좌표({x},{y})는 1사분면 입니다.\")\n",
    "elif x < 0 and y > 0:# 2사분면 조건\n",
    "    print(f\"좌표({x},{y})는 2사분면 입니다.\")      \n",
    "elif x > 0 and y < 0:# 4사분면 조건\n",
    "    print(f\"좌표({x},{y})는 4사분면 입니다.\")  \n",
    "else :# 3사분면 조건\n",
    "    print(f\"좌표({x},{y})는 3사분면 입니다.\")     "
   ]
  },
  {
   "cell_type": "code",
   "execution_count": 105,
   "id": "e844d651",
   "metadata": {},
   "outputs": [
    {
     "name": "stdout",
     "output_type": "stream",
     "text": [
      "x값을 입력하세요 : 1\n",
      "y값을 입력하세요 : 1\n",
      "좌표(1,1)는 1사분면 입니다.\n"
     ]
    }
   ],
   "source": [
    "# 사분면 출력 문제\n",
    "\n",
    "x = int(input(\"x값을 입력하세요 : \"))\n",
    "y = int(input(\"y값을 입력하세요 : \"))\n",
    "\n",
    "if x > 0 and y > 0: # 1사분면 조건\n",
    "    num = 1\n",
    "elif x < 0 and y > 0:# 2사분면 조건\n",
    "    num = 2     \n",
    "elif x > 0 and y < 0:# 4사분면 조건\n",
    "    num = 4  \n",
    "else :# 3사분면 조건\n",
    "    num = 3 \n",
    "print(f\"좌표({x},{y})는 {num}사분면 입니다.\")    "
   ]
  },
  {
   "cell_type": "code",
   "execution_count": 113,
   "id": "0ef289f5",
   "metadata": {},
   "outputs": [
    {
     "name": "stdout",
     "output_type": "stream",
     "text": [
      "나이 입력 >> 66\n",
      "요금은 375원 입니다.\n"
     ]
    }
   ],
   "source": [
    "# 나이입력 받아서 버스요금 계산 문제\n",
    "\n",
    "age = int(input(\"나이 입력 >> \"))\n",
    "\n",
    "fee = 1500 # 기본요금\n",
    "\n",
    "\n",
    "if age < 5:\n",
    "     fee *= 0.5\n",
    "elif age < 20:\n",
    "    fee *= 0.75\n",
    "elif age < 65:\n",
    "    fee == fee\n",
    "else :\n",
    "    fee *= 0.25\n",
    "    \n",
    "print(f\"요금은 {int(fee)}원 입니다.\")    "
   ]
  },
  {
   "cell_type": "code",
   "execution_count": null,
   "id": "20b37077",
   "metadata": {},
   "outputs": [],
   "source": []
  },
  {
   "cell_type": "code",
   "execution_count": 114,
   "id": "cf54dad2",
   "metadata": {},
   "outputs": [
    {
     "name": "stdout",
     "output_type": "stream",
     "text": [
      "================================================\n",
      "insert coin >> 3000\n"
     ]
    }
   ],
   "source": [
    "# 자판기 프로그램 만들기\n",
    "\n",
    "print(\"=\"*48)\n",
    "\n",
    "money = int(input(\"insert coin >> \"))\n",
    "menu = int(input(\"메뉴선택 >> \"))\n",
    "\n",
    "coke = 600\n",
    "sprite = 800\n",
    "water = 1000 \n",
    "\n",
    "if money >= 600:\n",
    "    if coke:\n",
    "        print(\"콜라가 나왔습니다.\")\n",
    "        if money - coke:\n",
    "            print(\"잔돈이 얼마입니다.\")\n",
    "        else :\n",
    "            print(\"잔돈이 없습니다.\")\n",
    "    elif sprite:\n",
    "        print(\"사이다가 나왔습니다.\")\n",
    "        if money - coke:\n",
    "            print(\"잔돈이 얼마입니다.\")\n",
    "        else :\n",
    "            print(\"잔돈이 없습니다.\")\n",
    "    elif sprite:\n",
    "        print(\"물이 나왔습니다.\")\n",
    "        if money - coke:\n",
    "            print(\"잔돈이 얼마입니다.\")\n",
    "        else :\n",
    "            print(\"잔돈이 없습니다.\")\n",
    "    else :\n",
    "        print(\"잔액이 부족합니다.\")\n",
    "        \n",
    "        \n",
    "\n",
    "else:\n",
    "    print(\"금액이 부족합니다. 돈을 더 넣으세요.\")"
   ]
  },
  {
   "cell_type": "code",
   "execution_count": null,
   "id": "d68d803b",
   "metadata": {},
   "outputs": [],
   "source": []
  }
 ],
 "metadata": {
  "kernelspec": {
   "display_name": "Python 3 (ipykernel)",
   "language": "python",
   "name": "python3"
  },
  "language_info": {
   "codemirror_mode": {
    "name": "ipython",
    "version": 3
   },
   "file_extension": ".py",
   "mimetype": "text/x-python",
   "name": "python",
   "nbconvert_exporter": "python",
   "pygments_lexer": "ipython3",
   "version": "3.9.12"
  }
 },
 "nbformat": 4,
 "nbformat_minor": 5
}
